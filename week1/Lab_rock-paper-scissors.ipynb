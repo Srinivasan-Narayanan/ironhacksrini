{
 "cells": [
  {
   "cell_type": "markdown",
   "id": "68e275d0",
   "metadata": {},
   "source": [
    "Rock, Paper & Scissors\n",
    "Let's play the famous game against our computer. You can check the rules here.\n",
    "\n",
    "Task\n",
    "Create a program that imitates the playability of the well known game of rock, paper, scissors. Follow the guidelines provided.\n",
    "\n",
    "Tools\n",
    "Loop: for/while\n",
    "Functions: input(), print()...\n",
    "Conditional statements: if, elif, else\n",
    "Definition of functions. Modular programming\n",
    "Import modules\n",
    "To solve this challenge, the use of functions is recommended.\n",
    "\n",
    "1. Import the choice function of the random module.\n",
    "2. Create a list that includes the 3 possible gesture options of the game: 'rock', 'paper' or 'scissors'. Store the list in a variable called gestures.\n",
    "3. Create a variable called n_rounds to store the maximum number of rounds to play in a game.\n",
    "4. Create a variable called rounds_to_win to store the number of rounds that a player must win to win the game.\n",
    "Hint: the value stored in rounds_to_win depends on the value of n_rounds.\n",
    "5. Create two variables to store the number of rounds that the computer and the player have won. Call these variables cpu_score and player_score.\n",
    "6. Define a function that randomly returns one of the 3 gesture options.\n",
    "You will use this function to simulate the gesture choice of the computer.\n",
    "7. Define a function that asks the player which is the gesture he or she wants to show: 'rock', 'paper' or 'scissors'.\n",
    "The player should only be allowed to choose one of the 3 gesture options. If the player's choice is not rock, paper or scissors, keep asking until it is.\n",
    "8. Define a function that checks who won a round.\n",
    "The function should return 0 if there is a tie, 1 if the computer wins and 2 if the player wins.\n",
    "9. Define a function that prints the choice of the computer, the choice of the player and a message that announces who won the current round.\n",
    "You should also use this function to update the variables that count the number of rounds that the computer and the player have won. The score of the winner increases by one point. If there is a tie, the score does not increase.\n",
    "10. Now it's time to code the execution of the game using the functions and variables you defined above.\n",
    "First, create a loop structure that repeats while no player reaches the minimum score necessary to win and the number of rounds is less than the maximum number of rounds to play in a game.\n",
    "\n",
    "Inside the loop, use the functions and variables above to create the execution of a round: ask for the player's choice, generate the random choice of the computer, show the round results, update the scores, etc.\n",
    "11. Print the winner of the game based on who won more rounds.\n",
    "Remember that the game might be tied."
   ]
  },
  {
   "cell_type": "code",
   "execution_count": 1,
   "id": "910502f0",
   "metadata": {},
   "outputs": [],
   "source": [
    "import random\n",
    "gestures = ['rock', 'paper', 'scissors']\n",
    "n_rounds = 0\n",
    "rounds_to_win = 0\n",
    "cpu_score = 0\n",
    "player_score = 0"
   ]
  },
  {
   "cell_type": "code",
   "execution_count": 12,
   "id": "0e5e2c1b",
   "metadata": {},
   "outputs": [
    {
     "data": {
      "text/plain": [
       "['rock', 'paper', 'scissors']"
      ]
     },
     "execution_count": 12,
     "metadata": {},
     "output_type": "execute_result"
    }
   ],
   "source": [
    "gestures"
   ]
  },
  {
   "cell_type": "markdown",
   "id": "3dd3b824",
   "metadata": {},
   "source": [
    "6. Define a function that randomly returns one of the 3 gesture options.\n",
    "You will use this function to simulate the gesture choice of the computer."
   ]
  },
  {
   "cell_type": "code",
   "execution_count": 2,
   "id": "2f2f4683",
   "metadata": {},
   "outputs": [
    {
     "data": {
      "text/plain": [
       "'scissors'"
      ]
     },
     "execution_count": 2,
     "metadata": {},
     "output_type": "execute_result"
    }
   ],
   "source": [
    "def random_gesture(g):\n",
    "    return random.choice(g)\n",
    "\n",
    "random_gesture(gestures)"
   ]
  },
  {
   "cell_type": "markdown",
   "id": "f62da81e",
   "metadata": {},
   "source": [
    "7. Define a function that asks the player which is the gesture he or she wants to show: 'rock', 'paper' or 'scissors'.\n",
    "The player should only be allowed to choose one of the 3 gesture options. If the player's choice is not rock, paper or scissors, keep asking until it is."
   ]
  },
  {
   "cell_type": "code",
   "execution_count": 27,
   "id": "a7241cdd",
   "metadata": {},
   "outputs": [
    {
     "name": "stdout",
     "output_type": "stream",
     "text": [
      "scissors\n",
      "Type one of the show gestures: rock, paper, scissors: paper\n"
     ]
    },
    {
     "data": {
      "text/plain": [
       "'paper'"
      ]
     },
     "execution_count": 27,
     "metadata": {},
     "output_type": "execute_result"
    }
   ],
   "source": [
    "def random_gesture(g):\n",
    "    return random.choice(g)\n",
    "\n",
    "print(random_gesture(gestures))\n",
    "def user_show(g):\n",
    "    x = input(f\"Type one of the show gestures: rock, paper, scissors: \")\n",
    "    while x not in g:\n",
    "        x = input(f\"Type one of the show gestures: rock, paper, scissors: \")\n",
    "    \n",
    "    return x\n",
    "        \n",
    "user_show(gestures)\n"
   ]
  },
  {
   "cell_type": "code",
   "execution_count": null,
   "id": "863419b7",
   "metadata": {},
   "outputs": [],
   "source": []
  },
  {
   "cell_type": "code",
   "execution_count": null,
   "id": "ae291494",
   "metadata": {},
   "outputs": [],
   "source": []
  }
 ],
 "metadata": {
  "kernelspec": {
   "display_name": "Python 3",
   "language": "python",
   "name": "python3"
  },
  "language_info": {
   "codemirror_mode": {
    "name": "ipython",
    "version": 3
   },
   "file_extension": ".py",
   "mimetype": "text/x-python",
   "name": "python",
   "nbconvert_exporter": "python",
   "pygments_lexer": "ipython3",
   "version": "3.8.8"
  }
 },
 "nbformat": 4,
 "nbformat_minor": 5
}

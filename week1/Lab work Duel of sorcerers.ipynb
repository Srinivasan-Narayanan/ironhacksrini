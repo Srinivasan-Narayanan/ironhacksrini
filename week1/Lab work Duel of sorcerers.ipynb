{
 "cells": [
  {
   "cell_type": "markdown",
   "id": "db2243b1",
   "metadata": {},
   "source": [
    "\n",
    "Duel of Sorcerers\n",
    "You are witnessing an epic battle between two powerful sorcerers: Gandalf and Saruman. Each sorcerer has 10 spells of variable power in their mind and they are going to throw them one after the other. The winner of the duel will be the one who wins more of those clashes between spells. Spells are represented as a list of 10 integers whose value equals the power of the spell.\n",
    "\n",
    "gandalf = [10, 11, 13, 30, 22, 11, 10, 33, 22, 22]\n",
    "saruman = [23, 66, 12, 43, 12, 10, 44, 23, 12, 17]\n",
    "For example:\n",
    "\n",
    "The first clash is won by Saruman: 10 against 23.\n",
    "The second clash is won by Saruman: 11 against 66.\n",
    "...\n",
    "You will create two variables, one for each sorcerer, where the sum of clashes won will be stored. Depending on which variable is greater at the end of the duel, you will show one of the following three results on the screen:\n",
    "\n",
    "Gandalf wins\n",
    "Saruman wins\n",
    "Tie"
   ]
  },
  {
   "cell_type": "markdown",
   "id": "eebf71de",
   "metadata": {},
   "source": [
    "Tools\n",
    "You don't necessarily need to use all the tools. Maybe you opt to use some of them or completely different ones, they are given to help you shape the exercise. Programming exercises can be solved in many different ways.\n",
    "\n",
    "Data structures: lists, dictionaries\n",
    "Loop: for loop\n",
    "Conditional statements: if-elif-else\n",
    "Functions: range(), len(), print()\n",
    "Tasks\n",
    "1. Create two variables called gandalf and saruman and assign them the spell power lists. Create a variable called spells to store the number of spells that the sorcerers cast"
   ]
  },
  {
   "cell_type": "code",
   "execution_count": 3,
   "id": "b743f6f2",
   "metadata": {},
   "outputs": [],
   "source": [
    "gandalf= [10, 11, 13, 30, 22, 11, 10, 33, 22, 22] \n",
    "saruman=[23, 66, 12, 43, 12, 10, 44, 23, 12, 17]"
   ]
  },
  {
   "cell_type": "markdown",
   "id": "b35652be",
   "metadata": {},
   "source": [
    "2. Create two variables called gandalf_wins and saruman_wins. Set both of them to 0.\n",
    "You will use these variables to count the number of clashes each sorcerer wins."
   ]
  },
  {
   "cell_type": "code",
   "execution_count": 2,
   "id": "c2b93939",
   "metadata": {},
   "outputs": [],
   "source": [
    "gandalf_wins=0\n",
    "saruman_wins=0\n",
    "tie = 0"
   ]
  },
  {
   "cell_type": "markdown",
   "id": "46c079b4",
   "metadata": {},
   "source": [
    "3. Using the lists of spells of both sorcerers, update variables gandalf_wins and saruman_wins to count the number of times each sorcerer wins a clash."
   ]
  },
  {
   "cell_type": "code",
   "execution_count": 4,
   "id": "1c752925",
   "metadata": {},
   "outputs": [
    {
     "name": "stdout",
     "output_type": "stream",
     "text": [
      "gandalf is the winner with 6 wins.\n"
     ]
    }
   ],
   "source": [
    "winner = []\n",
    "\n",
    "for i in range(len(gandalf)):\n",
    "    if (gandalf[i]) > (saruman[i]):\n",
    "        gandalf_wins +=1\n",
    "    elif (gandalf[i]) < (saruman[i]):\n",
    "        saruman_wins +=1\n",
    "    elif (gandalf[i]) < (saruman[i]):\n",
    "            tie +=1\n",
    "            \n",
    "if gandalf_wins > saruman_wins:\n",
    "    winner = \"gandalf\"\n",
    "else:\n",
    "    winner= \"saruman\"\n",
    "        \n",
    "print(f\"{winner} is the winner with {gandalf_wins} wins.\")"
   ]
  },
  {
   "cell_type": "markdown",
   "id": "06dd89d8",
   "metadata": {},
   "source": [
    "Print Gandalf wins, Saruman wins or Tie depending on the result."
   ]
  },
  {
   "cell_type": "code",
   "execution_count": 5,
   "id": "1ceda489",
   "metadata": {},
   "outputs": [
    {
     "name": "stdout",
     "output_type": "stream",
     "text": [
      "gandalf\n"
     ]
    }
   ],
   "source": [
    "print(winner)"
   ]
  },
  {
   "cell_type": "markdown",
   "id": "fd972c90",
   "metadata": {},
   "source": [
    "\n",
    "Bonus\n",
    "In this bonus challenge, you'll need to check the winner of the battle but this time, a sorcerer wins if he succeeds in winning 3 spell clashes in a row.\n",
    "\n",
    "Also, the spells now have a name and there is a dictionary that associates that name to a power.\n",
    "\n",
    "POWER = {\n",
    "    'Fireball': 50, \n",
    "    'Lightning bolt': 40, \n",
    "    'Magic arrow': 10, \n",
    "    'Black Tentacles': 25, \n",
    "    'Contagion': 45\n",
    "}\n",
    "\n",
    "gandalf = ['Fireball', 'Lightning bolt', 'Lightning bolt', 'Magic arrow', 'Fireball', \n",
    "           'Magic arrow', 'Lightning bolt', 'Fireball', 'Fireball', 'Fireball']\n",
    "saruman = ['Contagion', 'Contagion', 'Black Tentacles', 'Fireball', 'Black Tentacles', \n",
    "           'Lightning bolt', 'Magic arrow', 'Contagion', 'Magic arrow', 'Magic arrow']\n",
    "1. Create variables POWER, gandalf and saruman as seen above. Create a variable called spells to store the number of spells that the sorcerers cast."
   ]
  },
  {
   "cell_type": "code",
   "execution_count": 8,
   "id": "9d683773",
   "metadata": {},
   "outputs": [],
   "source": [
    "power = { 'Fireball': 50, 'Lightning bolt': 40, 'Magic arrow': 10, 'Black Tentacles': 25, 'Contagion': 45 }\n",
    "gandalf = ['Fireball', 'Lightning bolt', 'Lightning bolt', 'Magic arrow', 'Fireball', 'Magic arrow', 'Lightning bolt', 'Fireball', 'Fireball', 'Fireball']\n",
    "saruman = ['Contagion', 'Contagion', 'Black Tentacles', 'Fireball', 'Black Tentacles', 'Lightning bolt', 'Magic arrow', 'Contagion', 'Magic arrow', 'Magic arrow']"
   ]
  },
  {
   "cell_type": "code",
   "execution_count": 6,
   "id": "07bbabea",
   "metadata": {},
   "outputs": [
    {
     "name": "stdout",
     "output_type": "stream",
     "text": [
      "[50, 40, 40, 10, 50, 10, 40, 50, 50, 50] [45, 45, 25, 50, 25, 40, 10, 45, 10, 10]\n"
     ]
    }
   ],
   "source": [
    "power = { \n",
    "    'Fireball': 50,\n",
    "    'Lightning bolt': 40,\n",
    "    'Magic arrow': 10, \n",
    "    'Black Tentacles': 25, \n",
    "    'Contagion': 45 }\n",
    "\n",
    "gandalf = ['Fireball', 'Lightning bolt', 'Lightning bolt', 'Magic arrow', 'Fireball', 'Magic arrow', 'Lightning bolt', 'Fireball', 'Fireball', 'Fireball']\n",
    "saruman = ['Contagion', 'Contagion', 'Black Tentacles', 'Fireball', 'Black Tentacles', 'Lightning bolt', 'Magic arrow', 'Contagion', 'Magic arrow', 'Magic arrow']\n",
    "spells_g = []\n",
    "spells_s = []\n",
    "\n",
    "for game in gandalf:\n",
    "    for k, score in power.items():\n",
    "        if game == k:\n",
    "            spells_g.append(score)\n",
    "\n",
    "for game in saruman:\n",
    "    for k, score in power.items():\n",
    "        if game == k:\n",
    "            spells_s.append(score)\n",
    "            \n",
    "print(spells_g, spells_s)"
   ]
  },
  {
   "cell_type": "code",
   "execution_count": 11,
   "id": "05759308",
   "metadata": {},
   "outputs": [
    {
     "name": "stdout",
     "output_type": "stream",
     "text": [
      "gandalf is the winner with 3 wins.\n"
     ]
    }
   ],
   "source": [
    "gandalf_wins= 0\n",
    "saruman_wins= 0\n",
    "tie = 0\n",
    "for i in range(len(spells_g)):\n",
    "    if (spells_g[i]) > (spells_s[i]):\n",
    "        gandalf_wins +=1\n",
    "        saruman_wins = 0\n",
    "        if gandalf_wins >= 3:\n",
    "            winner = \"gandalf\"\n",
    "            break\n",
    "    elif (spells_g[i]) < (spells_s[i]):\n",
    "        saruman_wins +=1\n",
    "        gandalf_wins = 0\n",
    "        if saruman_wins >= 3:\n",
    "            winner = \"saruman\"\n",
    "            break\n",
    "    elif (spells_g[i]) < (spells_s[i]):\n",
    "        tie +=1\n",
    "        gandalf_wins = 0\n",
    "        saruman_wins = 0\n",
    "        \n",
    "print(f\"{winner} is the winner with {gandalf_wins} wins.\")"
   ]
  },
  {
   "cell_type": "markdown",
   "id": "d8853d06",
   "metadata": {},
   "source": [
    "** 5. Find the average spell power of Gandalf and Saruman."
   ]
  },
  {
   "cell_type": "code",
   "execution_count": 13,
   "id": "8d688729",
   "metadata": {},
   "outputs": [
    {
     "name": "stdout",
     "output_type": "stream",
     "text": [
      "Gandalf's average spell power is 39. \n",
      "Saruman's average spell power is 30.5.\n"
     ]
    }
   ],
   "source": [
    "import statistics\n",
    "\n",
    "print(f\"Gandalf's average spell power is {statistics.mean(spells_g)}. \\nSaruman's average spell power is {statistics.mean(spells_s)}.\")"
   ]
  },
  {
   "cell_type": "markdown",
   "id": "aa3d0fc2",
   "metadata": {},
   "source": [
    "** 6. Find the standard deviation of the spell power of Gandalf and Saruman."
   ]
  },
  {
   "cell_type": "code",
   "execution_count": 20,
   "id": "c3cb2858",
   "metadata": {},
   "outputs": [
    {
     "name": "stdout",
     "output_type": "stream",
     "text": [
      "Gandalf's average spell power is 15.95. \n",
      "Saruman's average spell power is 16.41.\n"
     ]
    }
   ],
   "source": [
    "print(f\"Gandalf's average spell power is {round(statistics.stdev(spells_g),2)}. \\nSaruman's average spell power is {round(statistics.stdev(spells_s),2)}.\")"
   ]
  },
  {
   "cell_type": "code",
   "execution_count": null,
   "id": "07fa013d",
   "metadata": {},
   "outputs": [],
   "source": []
  }
 ],
 "metadata": {
  "kernelspec": {
   "display_name": "Python 3",
   "language": "python",
   "name": "python3"
  },
  "language_info": {
   "codemirror_mode": {
    "name": "ipython",
    "version": 3
   },
   "file_extension": ".py",
   "mimetype": "text/x-python",
   "name": "python",
   "nbconvert_exporter": "python",
   "pygments_lexer": "ipython3",
   "version": "3.8.8"
  }
 },
 "nbformat": 4,
 "nbformat_minor": 5
}

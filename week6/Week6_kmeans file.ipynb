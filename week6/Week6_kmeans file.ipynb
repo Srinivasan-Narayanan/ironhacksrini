{
 "cells": [
  {
   "cell_type": "markdown",
   "metadata": {
    "id": "ZcSGgeMpeAgy"
   },
   "source": [
    "## Importing libraries"
   ]
  },
  {
   "cell_type": "code",
   "execution_count": 35,
   "metadata": {
    "executionInfo": {
     "elapsed": 1543,
     "status": "ok",
     "timestamp": 1623846916468,
     "user": {
      "displayName": "Ignacio Soteras",
      "photoUrl": "",
      "userId": "02050793736257155229"
     },
     "user_tz": -120
    },
    "id": "MVmBiWjsd2Xd"
   },
   "outputs": [],
   "source": [
    "import numpy as np\n",
    "import pandas as pd\n",
    "import pickle\n",
    "from sklearn import datasets # sklearn comes with some toy datasets to practise\n",
    "from sklearn.preprocessing import StandardScaler\n",
    "from sklearn.cluster import KMeans\n",
    "from matplotlib import pyplot\n",
    "from sklearn.metrics import silhouette_score"
   ]
  },
  {
   "cell_type": "code",
   "execution_count": 36,
   "metadata": {},
   "outputs": [],
   "source": [
    "# spotify libraries\n",
    "import config\n",
    "import spotipy\n",
    "import json\n",
    "from spotipy.oauth2 import SpotifyClientCredentials\n",
    "import numpy as np\n",
    "import pandas as pd\n",
    "import pickle\n",
    "from sklearn import datasets # sklearn comes with some toy datasets to practise\n",
    "from sklearn.preprocessing import StandardScaler\n",
    "from sklearn.cluster import KMeans\n",
    "from matplotlib import pyplot\n",
    "from sklearn.metrics import silhouette_score\n",
    "from IPython.display import IFrame\n",
    "\n",
    "#Initialize SpotiPy with user credentias\n",
    "sp = spotipy.Spotify(auth_manager=SpotifyClientCredentials(client_id= config.client_id,\n",
    "                                                           client_secret= config.client_secret))"
   ]
  },
  {
   "cell_type": "code",
   "execution_count": 37,
   "metadata": {},
   "outputs": [],
   "source": [
    "# reading csv files\n",
    "df_hot = pd.read_csv('df_hot.csv', index_col=0) # reading the hot songs 100 from Billboard & songs features\n",
    "X = pd.read_csv('df_song_features.csv', index_col=0) # Courtesy Denny Meyer for the songs data file\n",
    "\n",
    "\n",
    "# Let's see what we have.\n",
    "#display(data)\n",
    "# OMG! Another dictionary!!!\n",
    "\n",
    "# We will not use the 'target' key as we don't want to classify the wines in types.\n",
    "# we just want to cluster them.\n",
    "X=X.dropna().reset_index(drop=True)\n",
    "#X=X.drop(['index'], axis=1)"
   ]
  },
  {
   "cell_type": "code",
   "execution_count": 38,
   "metadata": {
    "colab": {
     "base_uri": "https://localhost:8080/",
     "height": 191
    },
    "executionInfo": {
     "elapsed": 216,
     "status": "ok",
     "timestamp": 1623847081785,
     "user": {
      "displayName": "Ignacio Soteras",
      "photoUrl": "",
      "userId": "02050793736257155229"
     },
     "user_tz": -120
    },
    "id": "vxTz2Zq-0_CU",
    "outputId": "b815d0a7-8668-4cc3-b972-d2e74dd2e767"
   },
   "outputs": [
    {
     "name": "stdout",
     "output_type": "stream",
     "text": [
      "<class 'pandas.core.frame.DataFrame'>\n",
      "RangeIndex: 11515 entries, 0 to 11514\n",
      "Data columns (total 21 columns):\n",
      " #   Column            Non-Null Count  Dtype  \n",
      "---  ------            --------------  -----  \n",
      " 0   danceability      11515 non-null  float64\n",
      " 1   energy            11515 non-null  float64\n",
      " 2   key               11515 non-null  float64\n",
      " 3   loudness          11515 non-null  float64\n",
      " 4   mode              11515 non-null  float64\n",
      " 5   speechiness       11515 non-null  float64\n",
      " 6   acousticness      11515 non-null  float64\n",
      " 7   instrumentalness  11515 non-null  float64\n",
      " 8   liveness          11515 non-null  float64\n",
      " 9   valence           11515 non-null  float64\n",
      " 10  tempo             11515 non-null  float64\n",
      " 11  type              11515 non-null  object \n",
      " 12  id                11515 non-null  object \n",
      " 13  uri               11515 non-null  object \n",
      " 14  track_href        11515 non-null  object \n",
      " 15  analysis_url      11515 non-null  object \n",
      " 16  duration_ms       11515 non-null  float64\n",
      " 17  time_signature    11515 non-null  float64\n",
      " 18  track_name        11515 non-null  object \n",
      " 19  artist_name       11515 non-null  object \n",
      " 20  artist_id;        11515 non-null  object \n",
      "dtypes: float64(13), object(8)\n",
      "memory usage: 1.8+ MB\n"
     ]
    }
   ],
   "source": [
    "X.info()"
   ]
  },
  {
   "cell_type": "code",
   "execution_count": 39,
   "metadata": {},
   "outputs": [
    {
     "data": {
      "text/plain": [
       "False"
      ]
     },
     "execution_count": 39,
     "metadata": {},
     "output_type": "execute_result"
    }
   ],
   "source": [
    "X.isnull().values.any()"
   ]
  },
  {
   "cell_type": "code",
   "execution_count": 40,
   "metadata": {},
   "outputs": [
    {
     "data": {
      "text/plain": [
       "danceability        0\n",
       "energy              0\n",
       "key                 0\n",
       "loudness            0\n",
       "mode                0\n",
       "speechiness         0\n",
       "acousticness        0\n",
       "instrumentalness    0\n",
       "liveness            0\n",
       "valence             0\n",
       "tempo               0\n",
       "type                0\n",
       "id                  0\n",
       "uri                 0\n",
       "track_href          0\n",
       "analysis_url        0\n",
       "duration_ms         0\n",
       "time_signature      0\n",
       "track_name          0\n",
       "artist_name         0\n",
       "artist_id;          0\n",
       "dtype: int64"
      ]
     },
     "execution_count": 40,
     "metadata": {},
     "output_type": "execute_result"
    }
   ],
   "source": [
    "check_nan_in_X = X.isnull().sum()\n",
    "check_nan_in_X"
   ]
  },
  {
   "cell_type": "markdown",
   "metadata": {
    "id": "jKnoCN1MgG6B"
   },
   "source": [
    "## Scaling features"
   ]
  },
  {
   "cell_type": "code",
   "execution_count": 41,
   "metadata": {},
   "outputs": [
    {
     "data": {
      "text/html": [
       "<div>\n",
       "<style scoped>\n",
       "    .dataframe tbody tr th:only-of-type {\n",
       "        vertical-align: middle;\n",
       "    }\n",
       "\n",
       "    .dataframe tbody tr th {\n",
       "        vertical-align: top;\n",
       "    }\n",
       "\n",
       "    .dataframe thead th {\n",
       "        text-align: right;\n",
       "    }\n",
       "</style>\n",
       "<table border=\"1\" class=\"dataframe\">\n",
       "  <thead>\n",
       "    <tr style=\"text-align: right;\">\n",
       "      <th></th>\n",
       "      <th>danceability</th>\n",
       "      <th>energy</th>\n",
       "      <th>key</th>\n",
       "      <th>loudness</th>\n",
       "      <th>mode</th>\n",
       "      <th>speechiness</th>\n",
       "      <th>acousticness</th>\n",
       "      <th>instrumentalness</th>\n",
       "      <th>liveness</th>\n",
       "      <th>valence</th>\n",
       "      <th>tempo</th>\n",
       "      <th>duration_ms</th>\n",
       "      <th>time_signature</th>\n",
       "    </tr>\n",
       "  </thead>\n",
       "  <tbody>\n",
       "    <tr>\n",
       "      <th>0</th>\n",
       "      <td>0.491</td>\n",
       "      <td>0.698</td>\n",
       "      <td>1.0</td>\n",
       "      <td>-8.913</td>\n",
       "      <td>1.0</td>\n",
       "      <td>0.0503</td>\n",
       "      <td>0.6690</td>\n",
       "      <td>0.000012</td>\n",
       "      <td>0.4520</td>\n",
       "      <td>0.827</td>\n",
       "      <td>106.624</td>\n",
       "      <td>301857.0</td>\n",
       "      <td>4.0</td>\n",
       "    </tr>\n",
       "    <tr>\n",
       "      <th>1</th>\n",
       "      <td>0.500</td>\n",
       "      <td>0.472</td>\n",
       "      <td>9.0</td>\n",
       "      <td>-9.487</td>\n",
       "      <td>0.0</td>\n",
       "      <td>0.0309</td>\n",
       "      <td>0.7120</td>\n",
       "      <td>0.000569</td>\n",
       "      <td>0.2630</td>\n",
       "      <td>0.693</td>\n",
       "      <td>109.250</td>\n",
       "      <td>279518.0</td>\n",
       "      <td>4.0</td>\n",
       "    </tr>\n",
       "    <tr>\n",
       "      <th>2</th>\n",
       "      <td>0.517</td>\n",
       "      <td>0.621</td>\n",
       "      <td>5.0</td>\n",
       "      <td>-8.660</td>\n",
       "      <td>1.0</td>\n",
       "      <td>0.2230</td>\n",
       "      <td>0.7730</td>\n",
       "      <td>0.000000</td>\n",
       "      <td>0.1460</td>\n",
       "      <td>0.782</td>\n",
       "      <td>111.710</td>\n",
       "      <td>364712.0</td>\n",
       "      <td>4.0</td>\n",
       "    </tr>\n",
       "    <tr>\n",
       "      <th>3</th>\n",
       "      <td>0.409</td>\n",
       "      <td>0.352</td>\n",
       "      <td>3.0</td>\n",
       "      <td>-11.444</td>\n",
       "      <td>1.0</td>\n",
       "      <td>0.0310</td>\n",
       "      <td>0.7090</td>\n",
       "      <td>0.000000</td>\n",
       "      <td>0.2650</td>\n",
       "      <td>0.516</td>\n",
       "      <td>138.004</td>\n",
       "      <td>93519.0</td>\n",
       "      <td>3.0</td>\n",
       "    </tr>\n",
       "    <tr>\n",
       "      <th>4</th>\n",
       "      <td>0.641</td>\n",
       "      <td>0.654</td>\n",
       "      <td>10.0</td>\n",
       "      <td>-10.219</td>\n",
       "      <td>1.0</td>\n",
       "      <td>0.1220</td>\n",
       "      <td>0.6530</td>\n",
       "      <td>0.000000</td>\n",
       "      <td>0.0733</td>\n",
       "      <td>0.736</td>\n",
       "      <td>100.351</td>\n",
       "      <td>300053.0</td>\n",
       "      <td>4.0</td>\n",
       "    </tr>\n",
       "    <tr>\n",
       "      <th>...</th>\n",
       "      <td>...</td>\n",
       "      <td>...</td>\n",
       "      <td>...</td>\n",
       "      <td>...</td>\n",
       "      <td>...</td>\n",
       "      <td>...</td>\n",
       "      <td>...</td>\n",
       "      <td>...</td>\n",
       "      <td>...</td>\n",
       "      <td>...</td>\n",
       "      <td>...</td>\n",
       "      <td>...</td>\n",
       "      <td>...</td>\n",
       "    </tr>\n",
       "    <tr>\n",
       "      <th>11510</th>\n",
       "      <td>0.502</td>\n",
       "      <td>0.825</td>\n",
       "      <td>1.0</td>\n",
       "      <td>-7.609</td>\n",
       "      <td>1.0</td>\n",
       "      <td>0.0367</td>\n",
       "      <td>0.0121</td>\n",
       "      <td>0.689000</td>\n",
       "      <td>0.1200</td>\n",
       "      <td>0.198</td>\n",
       "      <td>177.996</td>\n",
       "      <td>184505.0</td>\n",
       "      <td>4.0</td>\n",
       "    </tr>\n",
       "    <tr>\n",
       "      <th>11511</th>\n",
       "      <td>0.586</td>\n",
       "      <td>0.419</td>\n",
       "      <td>4.0</td>\n",
       "      <td>-10.375</td>\n",
       "      <td>0.0</td>\n",
       "      <td>0.0503</td>\n",
       "      <td>0.2960</td>\n",
       "      <td>0.379000</td>\n",
       "      <td>0.0911</td>\n",
       "      <td>0.216</td>\n",
       "      <td>123.030</td>\n",
       "      <td>219771.0</td>\n",
       "      <td>4.0</td>\n",
       "    </tr>\n",
       "    <tr>\n",
       "      <th>11512</th>\n",
       "      <td>0.581</td>\n",
       "      <td>0.451</td>\n",
       "      <td>1.0</td>\n",
       "      <td>-8.857</td>\n",
       "      <td>1.0</td>\n",
       "      <td>0.0457</td>\n",
       "      <td>0.3680</td>\n",
       "      <td>0.896000</td>\n",
       "      <td>0.2410</td>\n",
       "      <td>0.325</td>\n",
       "      <td>147.026</td>\n",
       "      <td>185722.0</td>\n",
       "      <td>4.0</td>\n",
       "    </tr>\n",
       "    <tr>\n",
       "      <th>11513</th>\n",
       "      <td>0.654</td>\n",
       "      <td>0.631</td>\n",
       "      <td>0.0</td>\n",
       "      <td>-7.780</td>\n",
       "      <td>1.0</td>\n",
       "      <td>0.1410</td>\n",
       "      <td>0.2320</td>\n",
       "      <td>0.103000</td>\n",
       "      <td>0.0487</td>\n",
       "      <td>0.364</td>\n",
       "      <td>161.977</td>\n",
       "      <td>197646.0</td>\n",
       "      <td>4.0</td>\n",
       "    </tr>\n",
       "    <tr>\n",
       "      <th>11514</th>\n",
       "      <td>0.646</td>\n",
       "      <td>0.441</td>\n",
       "      <td>1.0</td>\n",
       "      <td>-9.108</td>\n",
       "      <td>1.0</td>\n",
       "      <td>0.0363</td>\n",
       "      <td>0.1290</td>\n",
       "      <td>0.535000</td>\n",
       "      <td>0.1360</td>\n",
       "      <td>0.244</td>\n",
       "      <td>139.735</td>\n",
       "      <td>220640.0</td>\n",
       "      <td>4.0</td>\n",
       "    </tr>\n",
       "  </tbody>\n",
       "</table>\n",
       "<p>11515 rows × 13 columns</p>\n",
       "</div>"
      ],
      "text/plain": [
       "       danceability  energy   key  loudness  mode  speechiness  acousticness  \\\n",
       "0             0.491   0.698   1.0    -8.913   1.0       0.0503        0.6690   \n",
       "1             0.500   0.472   9.0    -9.487   0.0       0.0309        0.7120   \n",
       "2             0.517   0.621   5.0    -8.660   1.0       0.2230        0.7730   \n",
       "3             0.409   0.352   3.0   -11.444   1.0       0.0310        0.7090   \n",
       "4             0.641   0.654  10.0   -10.219   1.0       0.1220        0.6530   \n",
       "...             ...     ...   ...       ...   ...          ...           ...   \n",
       "11510         0.502   0.825   1.0    -7.609   1.0       0.0367        0.0121   \n",
       "11511         0.586   0.419   4.0   -10.375   0.0       0.0503        0.2960   \n",
       "11512         0.581   0.451   1.0    -8.857   1.0       0.0457        0.3680   \n",
       "11513         0.654   0.631   0.0    -7.780   1.0       0.1410        0.2320   \n",
       "11514         0.646   0.441   1.0    -9.108   1.0       0.0363        0.1290   \n",
       "\n",
       "       instrumentalness  liveness  valence    tempo  duration_ms  \\\n",
       "0              0.000012    0.4520    0.827  106.624     301857.0   \n",
       "1              0.000569    0.2630    0.693  109.250     279518.0   \n",
       "2              0.000000    0.1460    0.782  111.710     364712.0   \n",
       "3              0.000000    0.2650    0.516  138.004      93519.0   \n",
       "4              0.000000    0.0733    0.736  100.351     300053.0   \n",
       "...                 ...       ...      ...      ...          ...   \n",
       "11510          0.689000    0.1200    0.198  177.996     184505.0   \n",
       "11511          0.379000    0.0911    0.216  123.030     219771.0   \n",
       "11512          0.896000    0.2410    0.325  147.026     185722.0   \n",
       "11513          0.103000    0.0487    0.364  161.977     197646.0   \n",
       "11514          0.535000    0.1360    0.244  139.735     220640.0   \n",
       "\n",
       "       time_signature  \n",
       "0                 4.0  \n",
       "1                 4.0  \n",
       "2                 4.0  \n",
       "3                 3.0  \n",
       "4                 4.0  \n",
       "...               ...  \n",
       "11510             4.0  \n",
       "11511             4.0  \n",
       "11512             4.0  \n",
       "11513             4.0  \n",
       "11514             4.0  \n",
       "\n",
       "[11515 rows x 13 columns]"
      ]
     },
     "execution_count": 41,
     "metadata": {},
     "output_type": "execute_result"
    }
   ],
   "source": [
    "X_num=X._get_numeric_data()\n",
    "X_num"
   ]
  },
  {
   "cell_type": "code",
   "execution_count": 42,
   "metadata": {
    "colab": {
     "base_uri": "https://localhost:8080/",
     "height": 319
    },
    "executionInfo": {
     "elapsed": 226,
     "status": "ok",
     "timestamp": 1623847356617,
     "user": {
      "displayName": "Ignacio Soteras",
      "photoUrl": "",
      "userId": "02050793736257155229"
     },
     "user_tz": -120
    },
    "id": "HwrUhwwcgRkP",
    "outputId": "006111e0-116d-4087-aaca-88219c7567de"
   },
   "outputs": [
    {
     "data": {
      "text/html": [
       "<div>\n",
       "<style scoped>\n",
       "    .dataframe tbody tr th:only-of-type {\n",
       "        vertical-align: middle;\n",
       "    }\n",
       "\n",
       "    .dataframe tbody tr th {\n",
       "        vertical-align: top;\n",
       "    }\n",
       "\n",
       "    .dataframe thead th {\n",
       "        text-align: right;\n",
       "    }\n",
       "</style>\n",
       "<table border=\"1\" class=\"dataframe\">\n",
       "  <thead>\n",
       "    <tr style=\"text-align: right;\">\n",
       "      <th></th>\n",
       "      <th>danceability</th>\n",
       "      <th>energy</th>\n",
       "      <th>key</th>\n",
       "      <th>loudness</th>\n",
       "      <th>mode</th>\n",
       "      <th>speechiness</th>\n",
       "      <th>acousticness</th>\n",
       "      <th>instrumentalness</th>\n",
       "      <th>liveness</th>\n",
       "      <th>valence</th>\n",
       "      <th>tempo</th>\n",
       "      <th>duration_ms</th>\n",
       "      <th>time_signature</th>\n",
       "    </tr>\n",
       "  </thead>\n",
       "  <tbody>\n",
       "    <tr>\n",
       "      <th>count</th>\n",
       "      <td>11515.000000</td>\n",
       "      <td>11515.000000</td>\n",
       "      <td>11515.000000</td>\n",
       "      <td>11515.000000</td>\n",
       "      <td>11515.000000</td>\n",
       "      <td>11515.000000</td>\n",
       "      <td>11515.000000</td>\n",
       "      <td>11515.000000</td>\n",
       "      <td>11515.000000</td>\n",
       "      <td>11515.000000</td>\n",
       "      <td>11515.000000</td>\n",
       "      <td>1.151500e+04</td>\n",
       "      <td>11515.000000</td>\n",
       "    </tr>\n",
       "    <tr>\n",
       "      <th>mean</th>\n",
       "      <td>0.573817</td>\n",
       "      <td>0.638101</td>\n",
       "      <td>5.178984</td>\n",
       "      <td>-8.333538</td>\n",
       "      <td>0.585845</td>\n",
       "      <td>0.087066</td>\n",
       "      <td>0.257691</td>\n",
       "      <td>0.201535</td>\n",
       "      <td>0.210086</td>\n",
       "      <td>0.440161</td>\n",
       "      <td>122.838646</td>\n",
       "      <td>2.411051e+05</td>\n",
       "      <td>3.924620</td>\n",
       "    </tr>\n",
       "    <tr>\n",
       "      <th>std</th>\n",
       "      <td>0.169228</td>\n",
       "      <td>0.234471</td>\n",
       "      <td>3.586206</td>\n",
       "      <td>4.372669</td>\n",
       "      <td>0.492597</td>\n",
       "      <td>0.111822</td>\n",
       "      <td>0.310151</td>\n",
       "      <td>0.330950</td>\n",
       "      <td>0.196890</td>\n",
       "      <td>0.255613</td>\n",
       "      <td>29.511787</td>\n",
       "      <td>1.332284e+05</td>\n",
       "      <td>0.392806</td>\n",
       "    </tr>\n",
       "    <tr>\n",
       "      <th>min</th>\n",
       "      <td>0.000000</td>\n",
       "      <td>0.000000</td>\n",
       "      <td>0.000000</td>\n",
       "      <td>-38.829000</td>\n",
       "      <td>0.000000</td>\n",
       "      <td>0.000000</td>\n",
       "      <td>0.000000</td>\n",
       "      <td>0.000000</td>\n",
       "      <td>0.000000</td>\n",
       "      <td>0.000000</td>\n",
       "      <td>0.000000</td>\n",
       "      <td>4.293000e+03</td>\n",
       "      <td>0.000000</td>\n",
       "    </tr>\n",
       "    <tr>\n",
       "      <th>25%</th>\n",
       "      <td>0.462000</td>\n",
       "      <td>0.484000</td>\n",
       "      <td>2.000000</td>\n",
       "      <td>-10.029500</td>\n",
       "      <td>0.000000</td>\n",
       "      <td>0.035700</td>\n",
       "      <td>0.012900</td>\n",
       "      <td>0.000002</td>\n",
       "      <td>0.096600</td>\n",
       "      <td>0.222000</td>\n",
       "      <td>100.018000</td>\n",
       "      <td>1.854535e+05</td>\n",
       "      <td>4.000000</td>\n",
       "    </tr>\n",
       "    <tr>\n",
       "      <th>50%</th>\n",
       "      <td>0.587000</td>\n",
       "      <td>0.678000</td>\n",
       "      <td>5.000000</td>\n",
       "      <td>-7.386000</td>\n",
       "      <td>1.000000</td>\n",
       "      <td>0.047300</td>\n",
       "      <td>0.103000</td>\n",
       "      <td>0.001270</td>\n",
       "      <td>0.126000</td>\n",
       "      <td>0.417000</td>\n",
       "      <td>122.021000</td>\n",
       "      <td>2.262530e+05</td>\n",
       "      <td>4.000000</td>\n",
       "    </tr>\n",
       "    <tr>\n",
       "      <th>75%</th>\n",
       "      <td>0.699000</td>\n",
       "      <td>0.827000</td>\n",
       "      <td>8.000000</td>\n",
       "      <td>-5.427000</td>\n",
       "      <td>1.000000</td>\n",
       "      <td>0.079600</td>\n",
       "      <td>0.432000</td>\n",
       "      <td>0.299000</td>\n",
       "      <td>0.254000</td>\n",
       "      <td>0.641000</td>\n",
       "      <td>140.022000</td>\n",
       "      <td>2.755190e+05</td>\n",
       "      <td>4.000000</td>\n",
       "    </tr>\n",
       "    <tr>\n",
       "      <th>max</th>\n",
       "      <td>0.987000</td>\n",
       "      <td>0.999000</td>\n",
       "      <td>11.000000</td>\n",
       "      <td>-0.020000</td>\n",
       "      <td>1.000000</td>\n",
       "      <td>0.961000</td>\n",
       "      <td>0.996000</td>\n",
       "      <td>0.992000</td>\n",
       "      <td>0.997000</td>\n",
       "      <td>0.987000</td>\n",
       "      <td>219.297000</td>\n",
       "      <td>4.962076e+06</td>\n",
       "      <td>5.000000</td>\n",
       "    </tr>\n",
       "  </tbody>\n",
       "</table>\n",
       "</div>"
      ],
      "text/plain": [
       "       danceability        energy           key      loudness          mode  \\\n",
       "count  11515.000000  11515.000000  11515.000000  11515.000000  11515.000000   \n",
       "mean       0.573817      0.638101      5.178984     -8.333538      0.585845   \n",
       "std        0.169228      0.234471      3.586206      4.372669      0.492597   \n",
       "min        0.000000      0.000000      0.000000    -38.829000      0.000000   \n",
       "25%        0.462000      0.484000      2.000000    -10.029500      0.000000   \n",
       "50%        0.587000      0.678000      5.000000     -7.386000      1.000000   \n",
       "75%        0.699000      0.827000      8.000000     -5.427000      1.000000   \n",
       "max        0.987000      0.999000     11.000000     -0.020000      1.000000   \n",
       "\n",
       "        speechiness  acousticness  instrumentalness      liveness  \\\n",
       "count  11515.000000  11515.000000      11515.000000  11515.000000   \n",
       "mean       0.087066      0.257691          0.201535      0.210086   \n",
       "std        0.111822      0.310151          0.330950      0.196890   \n",
       "min        0.000000      0.000000          0.000000      0.000000   \n",
       "25%        0.035700      0.012900          0.000002      0.096600   \n",
       "50%        0.047300      0.103000          0.001270      0.126000   \n",
       "75%        0.079600      0.432000          0.299000      0.254000   \n",
       "max        0.961000      0.996000          0.992000      0.997000   \n",
       "\n",
       "            valence         tempo   duration_ms  time_signature  \n",
       "count  11515.000000  11515.000000  1.151500e+04    11515.000000  \n",
       "mean       0.440161    122.838646  2.411051e+05        3.924620  \n",
       "std        0.255613     29.511787  1.332284e+05        0.392806  \n",
       "min        0.000000      0.000000  4.293000e+03        0.000000  \n",
       "25%        0.222000    100.018000  1.854535e+05        4.000000  \n",
       "50%        0.417000    122.021000  2.262530e+05        4.000000  \n",
       "75%        0.641000    140.022000  2.755190e+05        4.000000  \n",
       "max        0.987000    219.297000  4.962076e+06        5.000000  "
      ]
     },
     "execution_count": 42,
     "metadata": {},
     "output_type": "execute_result"
    }
   ],
   "source": [
    "X.describe()"
   ]
  },
  {
   "cell_type": "code",
   "execution_count": 43,
   "metadata": {
    "colab": {
     "base_uri": "https://localhost:8080/",
     "height": 431
    },
    "executionInfo": {
     "elapsed": 206,
     "status": "ok",
     "timestamp": 1623847766918,
     "user": {
      "displayName": "Ignacio Soteras",
      "photoUrl": "",
      "userId": "02050793736257155229"
     },
     "user_tz": -120
    },
    "id": "8V86cFdpgJrd",
    "outputId": "b3a8d5a2-a380-4545-a06e-a6487daf3601",
    "scrolled": false
   },
   "outputs": [
    {
     "data": {
      "text/html": [
       "<div>\n",
       "<style scoped>\n",
       "    .dataframe tbody tr th:only-of-type {\n",
       "        vertical-align: middle;\n",
       "    }\n",
       "\n",
       "    .dataframe tbody tr th {\n",
       "        vertical-align: top;\n",
       "    }\n",
       "\n",
       "    .dataframe thead th {\n",
       "        text-align: right;\n",
       "    }\n",
       "</style>\n",
       "<table border=\"1\" class=\"dataframe\">\n",
       "  <thead>\n",
       "    <tr style=\"text-align: right;\">\n",
       "      <th></th>\n",
       "      <th>danceability</th>\n",
       "      <th>energy</th>\n",
       "      <th>key</th>\n",
       "      <th>loudness</th>\n",
       "      <th>mode</th>\n",
       "      <th>speechiness</th>\n",
       "      <th>acousticness</th>\n",
       "      <th>instrumentalness</th>\n",
       "      <th>liveness</th>\n",
       "      <th>valence</th>\n",
       "      <th>tempo</th>\n",
       "      <th>duration_ms</th>\n",
       "      <th>time_signature</th>\n",
       "    </tr>\n",
       "  </thead>\n",
       "  <tbody>\n",
       "    <tr>\n",
       "      <th>0</th>\n",
       "      <td>0.491</td>\n",
       "      <td>0.698</td>\n",
       "      <td>1.0</td>\n",
       "      <td>-8.913</td>\n",
       "      <td>1.0</td>\n",
       "      <td>0.0503</td>\n",
       "      <td>0.669</td>\n",
       "      <td>0.000012</td>\n",
       "      <td>0.4520</td>\n",
       "      <td>0.827</td>\n",
       "      <td>106.624</td>\n",
       "      <td>301857.0</td>\n",
       "      <td>4.0</td>\n",
       "    </tr>\n",
       "    <tr>\n",
       "      <th>1</th>\n",
       "      <td>0.500</td>\n",
       "      <td>0.472</td>\n",
       "      <td>9.0</td>\n",
       "      <td>-9.487</td>\n",
       "      <td>0.0</td>\n",
       "      <td>0.0309</td>\n",
       "      <td>0.712</td>\n",
       "      <td>0.000569</td>\n",
       "      <td>0.2630</td>\n",
       "      <td>0.693</td>\n",
       "      <td>109.250</td>\n",
       "      <td>279518.0</td>\n",
       "      <td>4.0</td>\n",
       "    </tr>\n",
       "    <tr>\n",
       "      <th>2</th>\n",
       "      <td>0.517</td>\n",
       "      <td>0.621</td>\n",
       "      <td>5.0</td>\n",
       "      <td>-8.660</td>\n",
       "      <td>1.0</td>\n",
       "      <td>0.2230</td>\n",
       "      <td>0.773</td>\n",
       "      <td>0.000000</td>\n",
       "      <td>0.1460</td>\n",
       "      <td>0.782</td>\n",
       "      <td>111.710</td>\n",
       "      <td>364712.0</td>\n",
       "      <td>4.0</td>\n",
       "    </tr>\n",
       "    <tr>\n",
       "      <th>3</th>\n",
       "      <td>0.409</td>\n",
       "      <td>0.352</td>\n",
       "      <td>3.0</td>\n",
       "      <td>-11.444</td>\n",
       "      <td>1.0</td>\n",
       "      <td>0.0310</td>\n",
       "      <td>0.709</td>\n",
       "      <td>0.000000</td>\n",
       "      <td>0.2650</td>\n",
       "      <td>0.516</td>\n",
       "      <td>138.004</td>\n",
       "      <td>93519.0</td>\n",
       "      <td>3.0</td>\n",
       "    </tr>\n",
       "    <tr>\n",
       "      <th>4</th>\n",
       "      <td>0.641</td>\n",
       "      <td>0.654</td>\n",
       "      <td>10.0</td>\n",
       "      <td>-10.219</td>\n",
       "      <td>1.0</td>\n",
       "      <td>0.1220</td>\n",
       "      <td>0.653</td>\n",
       "      <td>0.000000</td>\n",
       "      <td>0.0733</td>\n",
       "      <td>0.736</td>\n",
       "      <td>100.351</td>\n",
       "      <td>300053.0</td>\n",
       "      <td>4.0</td>\n",
       "    </tr>\n",
       "  </tbody>\n",
       "</table>\n",
       "</div>"
      ],
      "text/plain": [
       "   danceability  energy   key  loudness  mode  speechiness  acousticness  \\\n",
       "0         0.491   0.698   1.0    -8.913   1.0       0.0503         0.669   \n",
       "1         0.500   0.472   9.0    -9.487   0.0       0.0309         0.712   \n",
       "2         0.517   0.621   5.0    -8.660   1.0       0.2230         0.773   \n",
       "3         0.409   0.352   3.0   -11.444   1.0       0.0310         0.709   \n",
       "4         0.641   0.654  10.0   -10.219   1.0       0.1220         0.653   \n",
       "\n",
       "   instrumentalness  liveness  valence    tempo  duration_ms  time_signature  \n",
       "0          0.000012    0.4520    0.827  106.624     301857.0             4.0  \n",
       "1          0.000569    0.2630    0.693  109.250     279518.0             4.0  \n",
       "2          0.000000    0.1460    0.782  111.710     364712.0             4.0  \n",
       "3          0.000000    0.2650    0.516  138.004      93519.0             3.0  \n",
       "4          0.000000    0.0733    0.736  100.351     300053.0             4.0  "
      ]
     },
     "metadata": {},
     "output_type": "display_data"
    },
    {
     "name": "stdout",
     "output_type": "stream",
     "text": [
      "\n"
     ]
    },
    {
     "data": {
      "text/html": [
       "<div>\n",
       "<style scoped>\n",
       "    .dataframe tbody tr th:only-of-type {\n",
       "        vertical-align: middle;\n",
       "    }\n",
       "\n",
       "    .dataframe tbody tr th {\n",
       "        vertical-align: top;\n",
       "    }\n",
       "\n",
       "    .dataframe thead th {\n",
       "        text-align: right;\n",
       "    }\n",
       "</style>\n",
       "<table border=\"1\" class=\"dataframe\">\n",
       "  <thead>\n",
       "    <tr style=\"text-align: right;\">\n",
       "      <th></th>\n",
       "      <th>danceability</th>\n",
       "      <th>energy</th>\n",
       "      <th>key</th>\n",
       "      <th>loudness</th>\n",
       "      <th>mode</th>\n",
       "      <th>speechiness</th>\n",
       "      <th>acousticness</th>\n",
       "      <th>instrumentalness</th>\n",
       "      <th>liveness</th>\n",
       "      <th>valence</th>\n",
       "      <th>tempo</th>\n",
       "      <th>duration_ms</th>\n",
       "      <th>time_signature</th>\n",
       "    </tr>\n",
       "  </thead>\n",
       "  <tbody>\n",
       "    <tr>\n",
       "      <th>0</th>\n",
       "      <td>-0.489401</td>\n",
       "      <td>0.255476</td>\n",
       "      <td>-1.165344</td>\n",
       "      <td>-0.132525</td>\n",
       "      <td>0.840796</td>\n",
       "      <td>-0.328801</td>\n",
       "      <td>1.326215</td>\n",
       "      <td>-0.608948</td>\n",
       "      <td>1.228727</td>\n",
       "      <td>1.513444</td>\n",
       "      <td>-0.549453</td>\n",
       "      <td>0.456018</td>\n",
       "      <td>0.191910</td>\n",
       "    </tr>\n",
       "    <tr>\n",
       "      <th>1</th>\n",
       "      <td>-0.436216</td>\n",
       "      <td>-0.708436</td>\n",
       "      <td>1.065522</td>\n",
       "      <td>-0.263800</td>\n",
       "      <td>-1.189350</td>\n",
       "      <td>-0.502299</td>\n",
       "      <td>1.464863</td>\n",
       "      <td>-0.607266</td>\n",
       "      <td>0.268759</td>\n",
       "      <td>0.989191</td>\n",
       "      <td>-0.460468</td>\n",
       "      <td>0.288336</td>\n",
       "      <td>0.191910</td>\n",
       "    </tr>\n",
       "    <tr>\n",
       "      <th>2</th>\n",
       "      <td>-0.335756</td>\n",
       "      <td>-0.072936</td>\n",
       "      <td>-0.049911</td>\n",
       "      <td>-0.074663</td>\n",
       "      <td>0.840796</td>\n",
       "      <td>1.215686</td>\n",
       "      <td>1.661550</td>\n",
       "      <td>-0.608985</td>\n",
       "      <td>-0.325506</td>\n",
       "      <td>1.337389</td>\n",
       "      <td>-0.377108</td>\n",
       "      <td>0.927822</td>\n",
       "      <td>0.191910</td>\n",
       "    </tr>\n",
       "    <tr>\n",
       "      <th>3</th>\n",
       "      <td>-0.973976</td>\n",
       "      <td>-1.220248</td>\n",
       "      <td>-0.607628</td>\n",
       "      <td>-0.711373</td>\n",
       "      <td>0.840796</td>\n",
       "      <td>-0.501405</td>\n",
       "      <td>1.455190</td>\n",
       "      <td>-0.608985</td>\n",
       "      <td>0.278918</td>\n",
       "      <td>0.296708</td>\n",
       "      <td>0.513897</td>\n",
       "      <td>-1.107816</td>\n",
       "      <td>-2.353987</td>\n",
       "    </tr>\n",
       "    <tr>\n",
       "      <th>4</th>\n",
       "      <td>0.397016</td>\n",
       "      <td>0.067812</td>\n",
       "      <td>1.344380</td>\n",
       "      <td>-0.431211</td>\n",
       "      <td>0.840796</td>\n",
       "      <td>0.312425</td>\n",
       "      <td>1.274625</td>\n",
       "      <td>-0.608985</td>\n",
       "      <td>-0.694764</td>\n",
       "      <td>1.157422</td>\n",
       "      <td>-0.762022</td>\n",
       "      <td>0.442476</td>\n",
       "      <td>0.191910</td>\n",
       "    </tr>\n",
       "  </tbody>\n",
       "</table>\n",
       "</div>"
      ],
      "text/plain": [
       "   danceability    energy       key  loudness      mode  speechiness  \\\n",
       "0     -0.489401  0.255476 -1.165344 -0.132525  0.840796    -0.328801   \n",
       "1     -0.436216 -0.708436  1.065522 -0.263800 -1.189350    -0.502299   \n",
       "2     -0.335756 -0.072936 -0.049911 -0.074663  0.840796     1.215686   \n",
       "3     -0.973976 -1.220248 -0.607628 -0.711373  0.840796    -0.501405   \n",
       "4      0.397016  0.067812  1.344380 -0.431211  0.840796     0.312425   \n",
       "\n",
       "   acousticness  instrumentalness  liveness   valence     tempo  duration_ms  \\\n",
       "0      1.326215         -0.608948  1.228727  1.513444 -0.549453     0.456018   \n",
       "1      1.464863         -0.607266  0.268759  0.989191 -0.460468     0.288336   \n",
       "2      1.661550         -0.608985 -0.325506  1.337389 -0.377108     0.927822   \n",
       "3      1.455190         -0.608985  0.278918  0.296708  0.513897    -1.107816   \n",
       "4      1.274625         -0.608985 -0.694764  1.157422 -0.762022     0.442476   \n",
       "\n",
       "   time_signature  \n",
       "0        0.191910  \n",
       "1        0.191910  \n",
       "2        0.191910  \n",
       "3       -2.353987  \n",
       "4        0.191910  "
      ]
     },
     "metadata": {},
     "output_type": "display_data"
    }
   ],
   "source": [
    "scaler = StandardScaler()\n",
    "scaler.fit(X_num)\n",
    "X_scaled = scaler.transform(X_num)\n",
    "X_scaled_df = pd.DataFrame(X_scaled, columns = X_num.columns)\n",
    "display(X_num.head())\n",
    "print()\n",
    "display(X_scaled_df.head())"
   ]
  },
  {
   "cell_type": "code",
   "execution_count": 44,
   "metadata": {},
   "outputs": [
    {
     "data": {
      "text/plain": [
       "array([ 5.73816769e-01,  6.38100706e-01,  5.17898393e+00, -8.33353834e+00,\n",
       "        5.85844551e-01,  8.70655667e-02,  2.57690946e-01,  2.01534639e-01,\n",
       "        2.10086218e-01,  4.40160903e-01,  1.22838646e+02,  2.41105149e+05,\n",
       "        3.92462006e+00])"
      ]
     },
     "execution_count": 44,
     "metadata": {},
     "output_type": "execute_result"
    }
   ],
   "source": [
    "scaler.mean_"
   ]
  },
  {
   "cell_type": "code",
   "execution_count": 45,
   "metadata": {
    "colab": {
     "base_uri": "https://localhost:8080/",
     "height": 319
    },
    "executionInfo": {
     "elapsed": 221,
     "status": "ok",
     "timestamp": 1623847821073,
     "user": {
      "displayName": "Ignacio Soteras",
      "photoUrl": "",
      "userId": "02050793736257155229"
     },
     "user_tz": -120
    },
    "id": "INQdugXS3zPO",
    "outputId": "cc49e206-ecd0-4804-c96f-86f159b6b9cf"
   },
   "outputs": [
    {
     "data": {
      "text/html": [
       "<div>\n",
       "<style scoped>\n",
       "    .dataframe tbody tr th:only-of-type {\n",
       "        vertical-align: middle;\n",
       "    }\n",
       "\n",
       "    .dataframe tbody tr th {\n",
       "        vertical-align: top;\n",
       "    }\n",
       "\n",
       "    .dataframe thead th {\n",
       "        text-align: right;\n",
       "    }\n",
       "</style>\n",
       "<table border=\"1\" class=\"dataframe\">\n",
       "  <thead>\n",
       "    <tr style=\"text-align: right;\">\n",
       "      <th></th>\n",
       "      <th>danceability</th>\n",
       "      <th>energy</th>\n",
       "      <th>key</th>\n",
       "      <th>loudness</th>\n",
       "      <th>mode</th>\n",
       "      <th>speechiness</th>\n",
       "      <th>acousticness</th>\n",
       "      <th>instrumentalness</th>\n",
       "      <th>liveness</th>\n",
       "      <th>valence</th>\n",
       "      <th>tempo</th>\n",
       "      <th>duration_ms</th>\n",
       "      <th>time_signature</th>\n",
       "    </tr>\n",
       "  </thead>\n",
       "  <tbody>\n",
       "    <tr>\n",
       "      <th>count</th>\n",
       "      <td>1.151500e+04</td>\n",
       "      <td>1.151500e+04</td>\n",
       "      <td>1.151500e+04</td>\n",
       "      <td>1.151500e+04</td>\n",
       "      <td>1.151500e+04</td>\n",
       "      <td>1.151500e+04</td>\n",
       "      <td>1.151500e+04</td>\n",
       "      <td>1.151500e+04</td>\n",
       "      <td>1.151500e+04</td>\n",
       "      <td>1.151500e+04</td>\n",
       "      <td>1.151500e+04</td>\n",
       "      <td>1.151500e+04</td>\n",
       "      <td>1.151500e+04</td>\n",
       "    </tr>\n",
       "    <tr>\n",
       "      <th>mean</th>\n",
       "      <td>4.637097e-16</td>\n",
       "      <td>-3.935676e-17</td>\n",
       "      <td>-4.851236e-16</td>\n",
       "      <td>4.458970e-17</td>\n",
       "      <td>1.281746e-16</td>\n",
       "      <td>1.526111e-16</td>\n",
       "      <td>1.831603e-16</td>\n",
       "      <td>1.435914e-15</td>\n",
       "      <td>-1.236672e-16</td>\n",
       "      <td>3.037470e-16</td>\n",
       "      <td>1.663744e-16</td>\n",
       "      <td>-2.442201e-16</td>\n",
       "      <td>6.514401e-16</td>\n",
       "    </tr>\n",
       "    <tr>\n",
       "      <th>std</th>\n",
       "      <td>1.000043e+00</td>\n",
       "      <td>1.000043e+00</td>\n",
       "      <td>1.000043e+00</td>\n",
       "      <td>1.000043e+00</td>\n",
       "      <td>1.000043e+00</td>\n",
       "      <td>1.000043e+00</td>\n",
       "      <td>1.000043e+00</td>\n",
       "      <td>1.000043e+00</td>\n",
       "      <td>1.000043e+00</td>\n",
       "      <td>1.000043e+00</td>\n",
       "      <td>1.000043e+00</td>\n",
       "      <td>1.000043e+00</td>\n",
       "      <td>1.000043e+00</td>\n",
       "    </tr>\n",
       "    <tr>\n",
       "      <th>min</th>\n",
       "      <td>-3.390938e+00</td>\n",
       "      <td>-2.721563e+00</td>\n",
       "      <td>-1.444203e+00</td>\n",
       "      <td>-6.974410e+00</td>\n",
       "      <td>-1.189350e+00</td>\n",
       "      <td>-7.786431e-01</td>\n",
       "      <td>-8.308924e-01</td>\n",
       "      <td>-6.089850e-01</td>\n",
       "      <td>-1.067069e+00</td>\n",
       "      <td>-1.722057e+00</td>\n",
       "      <td>-4.162540e+00</td>\n",
       "      <td>-1.777568e+00</td>\n",
       "      <td>-9.991677e+00</td>\n",
       "    </tr>\n",
       "    <tr>\n",
       "      <th>25%</th>\n",
       "      <td>-6.607750e-01</td>\n",
       "      <td>-6.572548e-01</td>\n",
       "      <td>-8.864861e-01</td>\n",
       "      <td>-3.878719e-01</td>\n",
       "      <td>-1.189350e+00</td>\n",
       "      <td>-4.593716e-01</td>\n",
       "      <td>-7.892980e-01</td>\n",
       "      <td>-6.089780e-01</td>\n",
       "      <td>-5.764185e-01</td>\n",
       "      <td>-8.535185e-01</td>\n",
       "      <td>-7.733058e-01</td>\n",
       "      <td>-4.177344e-01</td>\n",
       "      <td>1.919095e-01</td>\n",
       "    </tr>\n",
       "    <tr>\n",
       "      <th>50%</th>\n",
       "      <td>7.790557e-02</td>\n",
       "      <td>1.701744e-01</td>\n",
       "      <td>-4.991116e-02</td>\n",
       "      <td>2.167051e-01</td>\n",
       "      <td>8.407957e-01</td>\n",
       "      <td>-3.556307e-01</td>\n",
       "      <td>-4.987817e-01</td>\n",
       "      <td>-6.051474e-01</td>\n",
       "      <td>-4.270902e-01</td>\n",
       "      <td>-9.061321e-02</td>\n",
       "      <td>-2.770693e-02</td>\n",
       "      <td>-1.114837e-01</td>\n",
       "      <td>1.919095e-01</td>\n",
       "    </tr>\n",
       "    <tr>\n",
       "      <th>75%</th>\n",
       "      <td>7.397633e-01</td>\n",
       "      <td>8.056742e-01</td>\n",
       "      <td>7.866638e-01</td>\n",
       "      <td>6.647347e-01</td>\n",
       "      <td>8.407957e-01</td>\n",
       "      <td>-6.676591e-02</td>\n",
       "      <td>5.620379e-01</td>\n",
       "      <td>2.945148e-01</td>\n",
       "      <td>2.230466e-01</td>\n",
       "      <td>7.857498e-01</td>\n",
       "      <td>5.822792e-01</td>\n",
       "      <td>2.583185e-01</td>\n",
       "      <td>1.919095e-01</td>\n",
       "    </tr>\n",
       "    <tr>\n",
       "      <th>max</th>\n",
       "      <td>2.441683e+00</td>\n",
       "      <td>1.539271e+00</td>\n",
       "      <td>1.623239e+00</td>\n",
       "      <td>1.901333e+00</td>\n",
       "      <td>8.407957e-01</td>\n",
       "      <td>7.815754e+00</td>\n",
       "      <td>2.380586e+00</td>\n",
       "      <td>2.388580e+00</td>\n",
       "      <td>3.996887e+00</td>\n",
       "      <td>2.139418e+00</td>\n",
       "      <td>3.268611e+00</td>\n",
       "      <td>3.543672e+01</td>\n",
       "      <td>2.737806e+00</td>\n",
       "    </tr>\n",
       "  </tbody>\n",
       "</table>\n",
       "</div>"
      ],
      "text/plain": [
       "       danceability        energy           key      loudness          mode  \\\n",
       "count  1.151500e+04  1.151500e+04  1.151500e+04  1.151500e+04  1.151500e+04   \n",
       "mean   4.637097e-16 -3.935676e-17 -4.851236e-16  4.458970e-17  1.281746e-16   \n",
       "std    1.000043e+00  1.000043e+00  1.000043e+00  1.000043e+00  1.000043e+00   \n",
       "min   -3.390938e+00 -2.721563e+00 -1.444203e+00 -6.974410e+00 -1.189350e+00   \n",
       "25%   -6.607750e-01 -6.572548e-01 -8.864861e-01 -3.878719e-01 -1.189350e+00   \n",
       "50%    7.790557e-02  1.701744e-01 -4.991116e-02  2.167051e-01  8.407957e-01   \n",
       "75%    7.397633e-01  8.056742e-01  7.866638e-01  6.647347e-01  8.407957e-01   \n",
       "max    2.441683e+00  1.539271e+00  1.623239e+00  1.901333e+00  8.407957e-01   \n",
       "\n",
       "        speechiness  acousticness  instrumentalness      liveness  \\\n",
       "count  1.151500e+04  1.151500e+04      1.151500e+04  1.151500e+04   \n",
       "mean   1.526111e-16  1.831603e-16      1.435914e-15 -1.236672e-16   \n",
       "std    1.000043e+00  1.000043e+00      1.000043e+00  1.000043e+00   \n",
       "min   -7.786431e-01 -8.308924e-01     -6.089850e-01 -1.067069e+00   \n",
       "25%   -4.593716e-01 -7.892980e-01     -6.089780e-01 -5.764185e-01   \n",
       "50%   -3.556307e-01 -4.987817e-01     -6.051474e-01 -4.270902e-01   \n",
       "75%   -6.676591e-02  5.620379e-01      2.945148e-01  2.230466e-01   \n",
       "max    7.815754e+00  2.380586e+00      2.388580e+00  3.996887e+00   \n",
       "\n",
       "            valence         tempo   duration_ms  time_signature  \n",
       "count  1.151500e+04  1.151500e+04  1.151500e+04    1.151500e+04  \n",
       "mean   3.037470e-16  1.663744e-16 -2.442201e-16    6.514401e-16  \n",
       "std    1.000043e+00  1.000043e+00  1.000043e+00    1.000043e+00  \n",
       "min   -1.722057e+00 -4.162540e+00 -1.777568e+00   -9.991677e+00  \n",
       "25%   -8.535185e-01 -7.733058e-01 -4.177344e-01    1.919095e-01  \n",
       "50%   -9.061321e-02 -2.770693e-02 -1.114837e-01    1.919095e-01  \n",
       "75%    7.857498e-01  5.822792e-01  2.583185e-01    1.919095e-01  \n",
       "max    2.139418e+00  3.268611e+00  3.543672e+01    2.737806e+00  "
      ]
     },
     "execution_count": 45,
     "metadata": {},
     "output_type": "execute_result"
    }
   ],
   "source": [
    "X_scaled_df.describe()"
   ]
  },
  {
   "cell_type": "markdown",
   "metadata": {
    "id": "W8zgKxQKhBUr"
   },
   "source": [
    "## Clustering with K-Means"
   ]
  },
  {
   "cell_type": "code",
   "execution_count": 46,
   "metadata": {
    "colab": {
     "base_uri": "https://localhost:8080/"
    },
    "executionInfo": {
     "elapsed": 208,
     "status": "ok",
     "timestamp": 1623848315608,
     "user": {
      "displayName": "Ignacio Soteras",
      "photoUrl": "",
      "userId": "02050793736257155229"
     },
     "user_tz": -120
    },
    "id": "qS4o_tT1hGAG",
    "outputId": "eecc7527-b3df-4576-f931-881e198c2166"
   },
   "outputs": [
    {
     "data": {
      "text/plain": [
       "KMeans(random_state=1234)"
      ]
     },
     "execution_count": 46,
     "metadata": {},
     "output_type": "execute_result"
    }
   ],
   "source": [
    "kmeans = KMeans(n_clusters=8, random_state=1234)\n",
    "kmeans.fit(X_scaled_df)"
   ]
  },
  {
   "cell_type": "code",
   "execution_count": 47,
   "metadata": {},
   "outputs": [
    {
     "data": {
      "text/plain": [
       "11515"
      ]
     },
     "execution_count": 47,
     "metadata": {},
     "output_type": "execute_result"
    }
   ],
   "source": [
    "len(kmeans.labels_)"
   ]
  },
  {
   "cell_type": "code",
   "execution_count": 48,
   "metadata": {},
   "outputs": [
    {
     "data": {
      "image/png": "[encoded data removed]",
      "text/plain": [
       "<Figure size 432x288 with 1 Axes>"
      ]
     },
     "metadata": {
      "needs_background": "light"
     },
     "output_type": "display_data"
    }
   ],
   "source": [
    "# assign a cluster to each example\n",
    "labels = kmeans.predict(X_scaled_df)\n",
    "# retrieve unique clusters\n",
    "clusters = np.unique(labels)\n",
    "# create scatter plot for samples from each cluster\n",
    "for cluster in clusters:\n",
    "    # get row indexes for samples with this cluster\n",
    "    row_ix = np.where(labels == cluster)\n",
    "    # create scatter of these samples\n",
    "    pyplot.scatter(X.to_numpy()[row_ix, 0], X.to_numpy()[row_ix, 1])\n",
    "    # show the plot\n",
    "pyplot.show()"
   ]
  },
  {
   "cell_type": "code",
   "execution_count": 49,
   "metadata": {
    "colab": {
     "base_uri": "https://localhost:8080/"
    },
    "executionInfo": {
     "elapsed": 280,
     "status": "ok",
     "timestamp": 1623848518689,
     "user": {
      "displayName": "Ignacio Soteras",
      "photoUrl": "",
      "userId": "02050793736257155229"
     },
     "user_tz": -120
    },
    "id": "jHfWQSmth9yR",
    "outputId": "d952adf3-9ced-4a61-dc93-14ed804a4fe1"
   },
   "outputs": [
    {
     "data": {
      "text/plain": [
       "0     700\n",
       "1    3408\n",
       "2     807\n",
       "3    1765\n",
       "4    2527\n",
       "5     635\n",
       "6    1665\n",
       "7       8\n",
       "dtype: int64"
      ]
     },
     "execution_count": 49,
     "metadata": {},
     "output_type": "execute_result"
    }
   ],
   "source": [
    "clusters = kmeans.predict(X_scaled_df)\n",
    "#clusters\n",
    "pd.Series(clusters).value_counts().sort_index()"
   ]
  },
  {
   "cell_type": "code",
   "execution_count": 50,
   "metadata": {
    "colab": {
     "base_uri": "https://localhost:8080/",
     "height": 225
    },
    "executionInfo": {
     "elapsed": 234,
     "status": "ok",
     "timestamp": 1623848601645,
     "user": {
      "displayName": "Ignacio Soteras",
      "photoUrl": "",
      "userId": "02050793736257155229"
     },
     "user_tz": -120
    },
    "id": "RmWPL4DjiyIP",
    "outputId": "b1a15218-8112-4e6f-c87a-f6e4a972080d"
   },
   "outputs": [
    {
     "data": {
      "text/html": [
       "<div>\n",
       "<style scoped>\n",
       "    .dataframe tbody tr th:only-of-type {\n",
       "        vertical-align: middle;\n",
       "    }\n",
       "\n",
       "    .dataframe tbody tr th {\n",
       "        vertical-align: top;\n",
       "    }\n",
       "\n",
       "    .dataframe thead th {\n",
       "        text-align: right;\n",
       "    }\n",
       "</style>\n",
       "<table border=\"1\" class=\"dataframe\">\n",
       "  <thead>\n",
       "    <tr style=\"text-align: right;\">\n",
       "      <th></th>\n",
       "      <th>danceability</th>\n",
       "      <th>energy</th>\n",
       "      <th>key</th>\n",
       "      <th>loudness</th>\n",
       "      <th>mode</th>\n",
       "      <th>speechiness</th>\n",
       "      <th>acousticness</th>\n",
       "      <th>instrumentalness</th>\n",
       "      <th>liveness</th>\n",
       "      <th>valence</th>\n",
       "      <th>...</th>\n",
       "      <th>id</th>\n",
       "      <th>uri</th>\n",
       "      <th>track_href</th>\n",
       "      <th>analysis_url</th>\n",
       "      <th>duration_ms</th>\n",
       "      <th>time_signature</th>\n",
       "      <th>track_name</th>\n",
       "      <th>artist_name</th>\n",
       "      <th>artist_id;</th>\n",
       "      <th>cluster</th>\n",
       "    </tr>\n",
       "  </thead>\n",
       "  <tbody>\n",
       "    <tr>\n",
       "      <th>0</th>\n",
       "      <td>0.491</td>\n",
       "      <td>0.698</td>\n",
       "      <td>1.0</td>\n",
       "      <td>-8.913</td>\n",
       "      <td>1.0</td>\n",
       "      <td>0.0503</td>\n",
       "      <td>0.669</td>\n",
       "      <td>0.000012</td>\n",
       "      <td>0.4520</td>\n",
       "      <td>0.827</td>\n",
       "      <td>...</td>\n",
       "      <td>2OGawqjrXSuT9REyNfDo6w</td>\n",
       "      <td>spotify:track:2OGawqjrXSuT9REyNfDo6w</td>\n",
       "      <td>https://api.spotify.com/v1/tracks/2OGawqjrXSuT...</td>\n",
       "      <td>https://api.spotify.com/v1/audio-analysis/2OGa...</td>\n",
       "      <td>301857.0</td>\n",
       "      <td>4.0</td>\n",
       "      <td>Aaj Ka Ye Din</td>\n",
       "      <td>Kalyanji-Anandji</td>\n",
       "      <td>7pWXlTjky0KXWgbdZi9ebq;</td>\n",
       "      <td>1</td>\n",
       "    </tr>\n",
       "    <tr>\n",
       "      <th>1</th>\n",
       "      <td>0.500</td>\n",
       "      <td>0.472</td>\n",
       "      <td>9.0</td>\n",
       "      <td>-9.487</td>\n",
       "      <td>0.0</td>\n",
       "      <td>0.0309</td>\n",
       "      <td>0.712</td>\n",
       "      <td>0.000569</td>\n",
       "      <td>0.2630</td>\n",
       "      <td>0.693</td>\n",
       "      <td>...</td>\n",
       "      <td>5DdZw9x5dLgpzXjj6GHxIn</td>\n",
       "      <td>spotify:track:5DdZw9x5dLgpzXjj6GHxIn</td>\n",
       "      <td>https://api.spotify.com/v1/tracks/5DdZw9x5dLgp...</td>\n",
       "      <td>https://api.spotify.com/v1/audio-analysis/5DdZ...</td>\n",
       "      <td>279518.0</td>\n",
       "      <td>4.0</td>\n",
       "      <td>Main Hoon Tere Samne</td>\n",
       "      <td>Kalyanji-Anandji</td>\n",
       "      <td>7pWXlTjky0KXWgbdZi9ebq;</td>\n",
       "      <td>3</td>\n",
       "    </tr>\n",
       "    <tr>\n",
       "      <th>2</th>\n",
       "      <td>0.517</td>\n",
       "      <td>0.621</td>\n",
       "      <td>5.0</td>\n",
       "      <td>-8.660</td>\n",
       "      <td>1.0</td>\n",
       "      <td>0.2230</td>\n",
       "      <td>0.773</td>\n",
       "      <td>0.000000</td>\n",
       "      <td>0.1460</td>\n",
       "      <td>0.782</td>\n",
       "      <td>...</td>\n",
       "      <td>3Ho6oTWwISyvTI2y0TqrjP</td>\n",
       "      <td>spotify:track:3Ho6oTWwISyvTI2y0TqrjP</td>\n",
       "      <td>https://api.spotify.com/v1/tracks/3Ho6oTWwISyv...</td>\n",
       "      <td>https://api.spotify.com/v1/audio-analysis/3Ho6...</td>\n",
       "      <td>364712.0</td>\n",
       "      <td>4.0</td>\n",
       "      <td>Dulha Dulhan Ki Jodi</td>\n",
       "      <td>Kalyanji-Anandji</td>\n",
       "      <td>7pWXlTjky0KXWgbdZi9ebq;</td>\n",
       "      <td>3</td>\n",
       "    </tr>\n",
       "    <tr>\n",
       "      <th>3</th>\n",
       "      <td>0.409</td>\n",
       "      <td>0.352</td>\n",
       "      <td>3.0</td>\n",
       "      <td>-11.444</td>\n",
       "      <td>1.0</td>\n",
       "      <td>0.0310</td>\n",
       "      <td>0.709</td>\n",
       "      <td>0.000000</td>\n",
       "      <td>0.2650</td>\n",
       "      <td>0.516</td>\n",
       "      <td>...</td>\n",
       "      <td>0eOfVox5SIKMmSAi9ayd7J</td>\n",
       "      <td>spotify:track:0eOfVox5SIKMmSAi9ayd7J</td>\n",
       "      <td>https://api.spotify.com/v1/tracks/0eOfVox5SIKM...</td>\n",
       "      <td>https://api.spotify.com/v1/audio-analysis/0eOf...</td>\n",
       "      <td>93519.0</td>\n",
       "      <td>3.0</td>\n",
       "      <td>Ankh Zhapak Te Khel Gaye</td>\n",
       "      <td>Kalyanji-Anandji</td>\n",
       "      <td>7pWXlTjky0KXWgbdZi9ebq;</td>\n",
       "      <td>3</td>\n",
       "    </tr>\n",
       "    <tr>\n",
       "      <th>4</th>\n",
       "      <td>0.641</td>\n",
       "      <td>0.654</td>\n",
       "      <td>10.0</td>\n",
       "      <td>-10.219</td>\n",
       "      <td>1.0</td>\n",
       "      <td>0.1220</td>\n",
       "      <td>0.653</td>\n",
       "      <td>0.000000</td>\n",
       "      <td>0.0733</td>\n",
       "      <td>0.736</td>\n",
       "      <td>...</td>\n",
       "      <td>0XhArL19uo3LVvpWWCY9Zu</td>\n",
       "      <td>spotify:track:0XhArL19uo3LVvpWWCY9Zu</td>\n",
       "      <td>https://api.spotify.com/v1/tracks/0XhArL19uo3L...</td>\n",
       "      <td>https://api.spotify.com/v1/audio-analysis/0XhA...</td>\n",
       "      <td>300053.0</td>\n",
       "      <td>4.0</td>\n",
       "      <td>Pyare Tere Pyar Mein</td>\n",
       "      <td>Kalyanji-Anandji</td>\n",
       "      <td>7pWXlTjky0KXWgbdZi9ebq;</td>\n",
       "      <td>1</td>\n",
       "    </tr>\n",
       "  </tbody>\n",
       "</table>\n",
       "<p>5 rows × 22 columns</p>\n",
       "</div>"
      ],
      "text/plain": [
       "   danceability  energy   key  loudness  mode  speechiness  acousticness  \\\n",
       "0         0.491   0.698   1.0    -8.913   1.0       0.0503         0.669   \n",
       "1         0.500   0.472   9.0    -9.487   0.0       0.0309         0.712   \n",
       "2         0.517   0.621   5.0    -8.660   1.0       0.2230         0.773   \n",
       "3         0.409   0.352   3.0   -11.444   1.0       0.0310         0.709   \n",
       "4         0.641   0.654  10.0   -10.219   1.0       0.1220         0.653   \n",
       "\n",
       "   instrumentalness  liveness  valence  ...                      id  \\\n",
       "0          0.000012    0.4520    0.827  ...  2OGawqjrXSuT9REyNfDo6w   \n",
       "1          0.000569    0.2630    0.693  ...  5DdZw9x5dLgpzXjj6GHxIn   \n",
       "2          0.000000    0.1460    0.782  ...  3Ho6oTWwISyvTI2y0TqrjP   \n",
       "3          0.000000    0.2650    0.516  ...  0eOfVox5SIKMmSAi9ayd7J   \n",
       "4          0.000000    0.0733    0.736  ...  0XhArL19uo3LVvpWWCY9Zu   \n",
       "\n",
       "                                    uri  \\\n",
       "0  spotify:track:2OGawqjrXSuT9REyNfDo6w   \n",
       "1  spotify:track:5DdZw9x5dLgpzXjj6GHxIn   \n",
       "2  spotify:track:3Ho6oTWwISyvTI2y0TqrjP   \n",
       "3  spotify:track:0eOfVox5SIKMmSAi9ayd7J   \n",
       "4  spotify:track:0XhArL19uo3LVvpWWCY9Zu   \n",
       "\n",
       "                                          track_href  \\\n",
       "0  https://api.spotify.com/v1/tracks/2OGawqjrXSuT...   \n",
       "1  https://api.spotify.com/v1/tracks/5DdZw9x5dLgp...   \n",
       "2  https://api.spotify.com/v1/tracks/3Ho6oTWwISyv...   \n",
       "3  https://api.spotify.com/v1/tracks/0eOfVox5SIKM...   \n",
       "4  https://api.spotify.com/v1/tracks/0XhArL19uo3L...   \n",
       "\n",
       "                                        analysis_url duration_ms  \\\n",
       "0  https://api.spotify.com/v1/audio-analysis/2OGa...    301857.0   \n",
       "1  https://api.spotify.com/v1/audio-analysis/5DdZ...    279518.0   \n",
       "2  https://api.spotify.com/v1/audio-analysis/3Ho6...    364712.0   \n",
       "3  https://api.spotify.com/v1/audio-analysis/0eOf...     93519.0   \n",
       "4  https://api.spotify.com/v1/audio-analysis/0XhA...    300053.0   \n",
       "\n",
       "  time_signature                track_name       artist_name  \\\n",
       "0            4.0             Aaj Ka Ye Din  Kalyanji-Anandji   \n",
       "1            4.0      Main Hoon Tere Samne  Kalyanji-Anandji   \n",
       "2            4.0      Dulha Dulhan Ki Jodi  Kalyanji-Anandji   \n",
       "3            3.0  Ankh Zhapak Te Khel Gaye  Kalyanji-Anandji   \n",
       "4            4.0      Pyare Tere Pyar Mein  Kalyanji-Anandji   \n",
       "\n",
       "                artist_id; cluster  \n",
       "0  7pWXlTjky0KXWgbdZi9ebq;       1  \n",
       "1  7pWXlTjky0KXWgbdZi9ebq;       3  \n",
       "2  7pWXlTjky0KXWgbdZi9ebq;       3  \n",
       "3  7pWXlTjky0KXWgbdZi9ebq;       3  \n",
       "4  7pWXlTjky0KXWgbdZi9ebq;       1  \n",
       "\n",
       "[5 rows x 22 columns]"
      ]
     },
     "execution_count": 50,
     "metadata": {},
     "output_type": "execute_result"
    }
   ],
   "source": [
    "#X_df = pd.DataFrame(X)\n",
    "X[\"cluster\"] = clusters\n",
    "X.head()"
   ]
  },
  {
   "cell_type": "code",
   "execution_count": 51,
   "metadata": {
    "colab": {
     "base_uri": "https://localhost:8080/",
     "height": 101
    },
    "executionInfo": {
     "elapsed": 206,
     "status": "ok",
     "timestamp": 1623848706129,
     "user": {
      "displayName": "Ignacio Soteras",
      "photoUrl": "",
      "userId": "02050793736257155229"
     },
     "user_tz": -120
    },
    "id": "cTlD0Mrl68mp",
    "outputId": "7fab6ffe-65d9-4304-ede3-6c0e034ddca5"
   },
   "outputs": [
    {
     "data": {
      "text/html": [
       "<div>\n",
       "<style scoped>\n",
       "    .dataframe tbody tr th:only-of-type {\n",
       "        vertical-align: middle;\n",
       "    }\n",
       "\n",
       "    .dataframe tbody tr th {\n",
       "        vertical-align: top;\n",
       "    }\n",
       "\n",
       "    .dataframe thead th {\n",
       "        text-align: right;\n",
       "    }\n",
       "</style>\n",
       "<table border=\"1\" class=\"dataframe\">\n",
       "  <thead>\n",
       "    <tr style=\"text-align: right;\">\n",
       "      <th></th>\n",
       "      <th>danceability</th>\n",
       "      <th>energy</th>\n",
       "      <th>key</th>\n",
       "      <th>loudness</th>\n",
       "      <th>mode</th>\n",
       "      <th>speechiness</th>\n",
       "      <th>acousticness</th>\n",
       "      <th>instrumentalness</th>\n",
       "      <th>liveness</th>\n",
       "      <th>valence</th>\n",
       "      <th>...</th>\n",
       "      <th>id</th>\n",
       "      <th>uri</th>\n",
       "      <th>track_href</th>\n",
       "      <th>analysis_url</th>\n",
       "      <th>duration_ms</th>\n",
       "      <th>time_signature</th>\n",
       "      <th>track_name</th>\n",
       "      <th>artist_name</th>\n",
       "      <th>artist_id;</th>\n",
       "      <th>cluster</th>\n",
       "    </tr>\n",
       "  </thead>\n",
       "  <tbody>\n",
       "    <tr>\n",
       "      <th>9900</th>\n",
       "      <td>0.861</td>\n",
       "      <td>0.794</td>\n",
       "      <td>5.0</td>\n",
       "      <td>-5.834</td>\n",
       "      <td>0.0</td>\n",
       "      <td>0.0774</td>\n",
       "      <td>0.012</td>\n",
       "      <td>0.00257</td>\n",
       "      <td>0.0922</td>\n",
       "      <td>0.535</td>\n",
       "      <td>...</td>\n",
       "      <td>0BSfGprlDgnDhq9BBrdtoK</td>\n",
       "      <td>spotify:track:0BSfGprlDgnDhq9BBrdtoK</td>\n",
       "      <td>https://api.spotify.com/v1/tracks/0BSfGprlDgnD...</td>\n",
       "      <td>https://api.spotify.com/v1/audio-analysis/0BSf...</td>\n",
       "      <td>380720.0</td>\n",
       "      <td>4.0</td>\n",
       "      <td>Piece Of Me - Extended Mix</td>\n",
       "      <td>Becky Hill</td>\n",
       "      <td>4EPJlUEBy49EX1wuFOvtjK;</td>\n",
       "      <td>4</td>\n",
       "    </tr>\n",
       "  </tbody>\n",
       "</table>\n",
       "<p>1 rows × 22 columns</p>\n",
       "</div>"
      ],
      "text/plain": [
       "      danceability  energy  key  loudness  mode  speechiness  acousticness  \\\n",
       "9900         0.861   0.794  5.0    -5.834   0.0       0.0774         0.012   \n",
       "\n",
       "      instrumentalness  liveness  valence  ...                      id  \\\n",
       "9900           0.00257    0.0922    0.535  ...  0BSfGprlDgnDhq9BBrdtoK   \n",
       "\n",
       "                                       uri  \\\n",
       "9900  spotify:track:0BSfGprlDgnDhq9BBrdtoK   \n",
       "\n",
       "                                             track_href  \\\n",
       "9900  https://api.spotify.com/v1/tracks/0BSfGprlDgnD...   \n",
       "\n",
       "                                           analysis_url duration_ms  \\\n",
       "9900  https://api.spotify.com/v1/audio-analysis/0BSf...    380720.0   \n",
       "\n",
       "     time_signature                  track_name  artist_name  \\\n",
       "9900            4.0  Piece Of Me - Extended Mix   Becky Hill   \n",
       "\n",
       "                   artist_id; cluster  \n",
       "9900  4EPJlUEBy49EX1wuFOvtjK;       4  \n",
       "\n",
       "[1 rows x 22 columns]"
      ]
     },
     "execution_count": 51,
     "metadata": {},
     "output_type": "execute_result"
    }
   ],
   "source": [
    "X[X['cluster'] == 4].sample()"
   ]
  },
  {
   "cell_type": "code",
   "execution_count": 52,
   "metadata": {
    "colab": {
     "base_uri": "https://localhost:8080/"
    },
    "executionInfo": {
     "elapsed": 228,
     "status": "ok",
     "timestamp": 1623848859464,
     "user": {
      "displayName": "Ignacio Soteras",
      "photoUrl": "",
      "userId": "02050793736257155229"
     },
     "user_tz": -120
    },
    "id": "IfB_M6fgkYrO",
    "outputId": "f7437ec0-2b22-4f65-ee9d-6e1efec6eda0"
   },
   "outputs": [
    {
     "data": {
      "text/plain": [
       "87509.25765643558"
      ]
     },
     "execution_count": 52,
     "metadata": {},
     "output_type": "execute_result"
    }
   ],
   "source": [
    "kmeans.inertia_"
   ]
  },
  {
   "cell_type": "code",
   "execution_count": 53,
   "metadata": {
    "colab": {
     "base_uri": "https://localhost:8080/"
    },
    "executionInfo": {
     "elapsed": 228,
     "status": "ok",
     "timestamp": 1623848956571,
     "user": {
      "displayName": "Ignacio Soteras",
      "photoUrl": "",
      "userId": "02050793736257155229"
     },
     "user_tz": -120
    },
    "id": "mTUnGONElwzm",
    "outputId": "e2be9ff2-7612-4b3e-d091-203cae32721c"
   },
   "outputs": [
    {
     "name": "stdout",
     "output_type": "stream",
     "text": [
      "49360.465084542244\n"
     ]
    }
   ],
   "source": [
    "kmeans2 = KMeans(n_clusters=50,\n",
    "                init=\"k-means++\",\n",
    "                n_init=50,  # try with 1, 4, 8, 20, 30, 100...\n",
    "                max_iter=10,\n",
    "                tol=0,\n",
    "                algorithm=\"elkan\",\n",
    "                random_state=1234)\n",
    "kmeans2.fit(X_scaled_df)\n",
    "print(kmeans2.inertia_)"
   ]
  },
  {
   "cell_type": "markdown",
   "metadata": {
    "id": "77b-H29dnlLP"
   },
   "source": [
    "## Chosing K"
   ]
  },
  {
   "cell_type": "code",
   "execution_count": 54,
   "metadata": {
    "colab": {
     "base_uri": "https://localhost:8080/",
     "height": 1000
    },
    "executionInfo": {
     "elapsed": 2117,
     "status": "ok",
     "timestamp": 1623849240010,
     "user": {
      "displayName": "Ignacio Soteras",
      "photoUrl": "",
      "userId": "02050793736257155229"
     },
     "user_tz": -120
    },
    "id": "g69gpyLSnqVS",
    "outputId": "5eff7e09-1033-499e-ca86-a5b49f356400"
   },
   "outputs": [
    {
     "name": "stdout",
     "output_type": "stream",
     "text": [
      "Training a K-Means model with 2 clusters! \n",
      "\n",
      "Training a K-Means model with 3 clusters! \n",
      "\n",
      "Training a K-Means model with 4 clusters! \n",
      "\n",
      "Training a K-Means model with 5 clusters! \n",
      "\n",
      "Training a K-Means model with 6 clusters! \n",
      "\n",
      "Training a K-Means model with 7 clusters! \n",
      "\n",
      "Training a K-Means model with 8 clusters! \n",
      "\n",
      "Training a K-Means model with 9 clusters! \n",
      "\n",
      "Training a K-Means model with 10 clusters! \n",
      "\n",
      "Training a K-Means model with 11 clusters! \n",
      "\n",
      "Training a K-Means model with 12 clusters! \n",
      "\n",
      "Training a K-Means model with 13 clusters! \n",
      "\n",
      "Training a K-Means model with 14 clusters! \n",
      "\n",
      "Training a K-Means model with 15 clusters! \n",
      "\n",
      "Training a K-Means model with 16 clusters! \n",
      "\n",
      "Training a K-Means model with 17 clusters! \n",
      "\n",
      "Training a K-Means model with 18 clusters! \n",
      "\n",
      "Training a K-Means model with 19 clusters! \n",
      "\n",
      "Training a K-Means model with 20 clusters! \n",
      "\n"
     ]
    },
    {
     "data": {
      "text/plain": [
       "Text(0.5, 1.0, 'Elbow Method showing the optimal k')"
      ]
     },
     "execution_count": 54,
     "metadata": {},
     "output_type": "execute_result"
    },
    {
     "data": {
      "image/png": "[encoded data removed]",
      "text/plain": [
       "<Figure size 1152x576 with 1 Axes>"
      ]
     },
     "metadata": {
      "needs_background": "light"
     },
     "output_type": "display_data"
    }
   ],
   "source": [
    "K = range(2, 21)\n",
    "inertia = []\n",
    "\n",
    "for k in K:\n",
    "    print(\"Training a K-Means model with {} clusters! \".format(k))\n",
    "    print()\n",
    "    kmeans = KMeans(n_clusters=k,\n",
    "                    random_state=1234)\n",
    "    kmeans.fit(X_scaled_df)\n",
    "    inertia.append(kmeans.inertia_)\n",
    "\n",
    "import numpy as np\n",
    "import matplotlib.pyplot as plt\n",
    "%matplotlib inline\n",
    "\n",
    "plt.figure(figsize=(16,8))\n",
    "plt.plot(K, inertia, 'bx-')\n",
    "plt.xlabel('k')\n",
    "plt.ylabel('inertia')\n",
    "plt.xticks(np.arange(min(K), max(K)+1, 1.0))\n",
    "plt.title('Elbow Method showing the optimal k')"
   ]
  },
  {
   "cell_type": "code",
   "execution_count": 55,
   "metadata": {
    "colab": {
     "base_uri": "https://localhost:8080/",
     "height": 530
    },
    "executionInfo": {
     "elapsed": 2352,
     "status": "ok",
     "timestamp": 1623849582213,
     "user": {
      "displayName": "Ignacio Soteras",
      "photoUrl": "",
      "userId": "02050793736257155229"
     },
     "user_tz": -120
    },
    "id": "c4qvvkaOvqjr",
    "outputId": "96b4dea1-2977-4916-c92c-d9090a6886aa"
   },
   "outputs": [],
   "source": [
    "#K = range(2, 20)\n",
    "#silhouette = []\n",
    "\n",
    "#for k in K:\n",
    "   # kmeans = KMeans(n_clusters=k,\n",
    "                    #random_state=1234)\n",
    "    #kmeans.fit(X_scaled_df)\n",
    "    #filename = \"Model/kmeans_\" + str(k) + \".pickle\"\n",
    "    #with open(filename, \"wb\") as f:\n",
    "       # pickle.dump(kmeans,f)\n",
    "    #silhouette.append(silhouette_score(X_scaled_df, kmeans.predict(X_scaled_df)))\n",
    "\n",
    "\n",
    "#plt.figure(figsize=(16,8))\n",
    "#plt.plot(K, silhouette, 'bx-')\n",
    "##plt.xlabel('k')\n",
    "#plt.ylabel('silhouette score')\n",
    "##plt.xticks(np.arange(min(K), max(K)+1, 1.0))\n",
    "#plt.title('Silhouette Method showing the optimal k')"
   ]
  },
  {
   "cell_type": "code",
   "execution_count": 22,
   "metadata": {},
   "outputs": [],
   "source": [
    "## conda install -c districtdatalabs yellowbrick"
   ]
  },
  {
   "cell_type": "code",
   "execution_count": 56,
   "metadata": {},
   "outputs": [],
   "source": [
    "#from yellowbrick.cluster import SilhouetteVisualizer\n",
    "#model = KMeans(4, random_state=42)\n",
    "#visualizer = SilhouetteVisualizer(model, colors='yellowbrick')\n",
    "#visualizer.fit(X_scaled_df)        # Fit the data to the visualizer\n",
    "#visualizer.show()        # Finalize and render the figure"
   ]
  },
  {
   "cell_type": "markdown",
   "metadata": {
    "id": "rQ7S4T2TtKz1"
   },
   "source": [
    "# Saving with pickle"
   ]
  },
  {
   "cell_type": "code",
   "execution_count": 57,
   "metadata": {
    "executionInfo": {
     "elapsed": 432,
     "status": "ok",
     "timestamp": 1623850976766,
     "user": {
      "displayName": "Ignacio Soteras",
      "photoUrl": "",
      "userId": "02050793736257155229"
     },
     "user_tz": -120
    },
    "id": "w0DBvROTtNRZ"
   },
   "outputs": [],
   "source": [
    "import pickle\n",
    "\n",
    "#scaler = StandardScaler()\n",
    "#model = KMeans()\n",
    "\n",
    "with open(\"scaler.pickle\", \"wb\") as f:\n",
    "    pickle.dump(scaler,f)\n",
    "\n",
    "with open(\"kmeans_4.pickle\", \"wb\") as f:\n",
    "    pickle.dump(kmeans,f)"
   ]
  },
  {
   "cell_type": "code",
   "execution_count": 58,
   "metadata": {},
   "outputs": [
    {
     "data": {
      "text/plain": [
       "array([ 5.73816769e-01,  6.38100706e-01,  5.17898393e+00, -8.33353834e+00,\n",
       "        5.85844551e-01,  8.70655667e-02,  2.57690946e-01,  2.01534639e-01,\n",
       "        2.10086218e-01,  4.40160903e-01,  1.22838646e+02,  2.41105149e+05,\n",
       "        3.92462006e+00])"
      ]
     },
     "execution_count": 58,
     "metadata": {},
     "output_type": "execute_result"
    }
   ],
   "source": [
    "scaler.mean_"
   ]
  },
  {
   "cell_type": "code",
   "execution_count": 59,
   "metadata": {},
   "outputs": [],
   "source": [
    "def load(filename = \"filename.pickle\"): \n",
    "    try: \n",
    "        with open(filename, \"rb\") as f: \n",
    "            return pickle.load(f) \n",
    "    except FileNotFoundError: \n",
    "        print(\"File not found!\") "
   ]
  },
  {
   "cell_type": "code",
   "execution_count": 60,
   "metadata": {},
   "outputs": [],
   "source": [
    "# user input a song\n",
    "## get the audio features for the song from spotify \n",
    "## scale the audio features with scaler that you build the Kmean on \n",
    "## predict for the user song(audio features) in which cluster belong to (e.g belongs to 7 )\n",
    "## got the 100,000000 database and recommed a song that belong to the same cluster of the user input song "
   ]
  },
  {
   "cell_type": "code",
   "execution_count": 61,
   "metadata": {},
   "outputs": [],
   "source": [
    "#a= \"man in the mirror\"\n",
    "\n",
    "#\"black or white\"#\"they don't really care about us\"#\"billie jean\" # they don't really care about us\n",
    "#b= ''"
   ]
  },
  {
   "cell_type": "code",
   "execution_count": 69,
   "metadata": {},
   "outputs": [],
   "source": [
    "matches = 'Good choice!. Are you in for another \"Top Hit\" of this week?' # msg 1 when the title entered is available in our lists\n",
    "confirm = 'Please enter \"y\" or \"n\": ' # msg 2 requesting yes or no input request from user for Top hits recommendations\n",
    "reconfirm = 'If you are interested in \"Top Hits\" please enter \"y\" or \"n\": ' # msg 3 reconfirmation of Top hits recommendations\n",
    "recommendation_msg = 'Our recommendation for you: Song -' #msg 4 message showing the recommendation of the title\n",
    "invalid_input = 'Sorry, not a valid input.' # msg 5 for invalid entry\n",
    "thanks = 'Thanks for visiting our collections. Enjoy your music.' #msg 6 thanks for using the song collection facility\n",
    "limit = 'Sorry, you have exceeded the allowed number of input attempts. Please try again later.' # msg 7, invalid entry more than 2 times\n",
    "sorry = 'Sorry, We do not have that Genre. Enjoy your music.' #msg 8 when the entered title does not match with our collection \n",
    "recommendation = np.random.choice(df_hot.album)\n",
    "song_feature_recommendation = \". Great choice!!!\\nWe recommend a similar genre for you. Here you go..Song-\"\n",
    "\n",
    "\n",
    "\n",
    "def hotsong_or_your_kind():   \n",
    "    user_input = input(\"Please enter the song of your choice: \")\n",
    "    #defining the valid input lists\n",
    "    valid_input2 =['yes','y','n','no']\n",
    "    no = ['n','no']\n",
    "    yes = ['yes','y']\n",
    "    hotsong_or_your_kind.song_input= user_input\n",
    "    \n",
    "     # fetching the artists name:\n",
    "    for al, ar in zip(df_hot.album, df_hot.artist):\n",
    "        if al.lower()== user_input.lower():\n",
    "            y = ar\n",
    "            #input(f'\\n\"{user_input.title()}\" from \"{y}\". {matches}\\n{confirm}')\n",
    "\n",
    "            \n",
    "    if user_input.lower() in str(df_hot.album).lower(): # Happy path with matching title,confirmation yes, print recommendation\n",
    "        user_input1 = input(f'\\n\"{user_input.title()}\" from \"{y}\". \\n{matches}\\n\\n{confirm}')\n",
    "        if user_input1.lower() in str(yes).lower():\n",
    "            #recommendation = np.random.choice(df_hot.album)\n",
    "            print(f'\\n{recommendation_msg}\"{recommendation}\". Enjoy!!!!')\n",
    "        elif user_input1.lower() in str(no).lower(): # Happy path with matching title,confirmation no, print thanks for visiting\n",
    "            print(f'\\n{thanks}')\n",
    "        #count +=1\n",
    "        elif user_input1.lower() not in str(valid_input2).lower(): # matching title,valid confirmation input on 2nd attempt, \n",
    "            user_input2 = input(f'\\n{invalid_input} {reconfirm}')\n",
    "            if user_input2.lower() in str(yes).lower():\n",
    "                print(f'\\n{recommendation_msg}\"{recommendation}\". Enjoy!!!!') #on an input of yes, print recommendation\n",
    "            elif user_input2.lower() in str(no).lower():\n",
    "                print(f'\\n{thanks}') #on an input of no, print recommendation\n",
    "            elif user_input2.lower() not in str(valid_input2).lower():# matching title,invalid input on 2nd attempt, number of attempts limit exceeded msg   \n",
    "                print(f'\\n{limit}')\n",
    "    elif user_input.lower() not in str(df_hot.album).lower(): # Happy path with no matching title,print sorry\n",
    "        song = sp.search(q= user_input.title(), type = \"track\", limit=1, market= 'GB') # to restrict to a song name and artist.\n",
    "        song_features= sp.audio_features(song[\"tracks\"][\"items\"][0][\"uri\"])[0]\n",
    "        scaler = load(\"scaler.pickle\")\n",
    "        song_features_df = pd.DataFrame(song_features, index=[0])\n",
    "        song_features_df_num=song_features_df._get_numeric_data()\n",
    "        song_scaled = scaler.transform(song_features_df_num)\n",
    "        kmeans = load(\"kmeans_4.pickle\")\n",
    "        pred= kmeans.predict(song_scaled)\n",
    "        song_rec_df= X.where(X[\"cluster\"]== pred.item(0)).dropna()\n",
    "        rec_song = np.random.choice(song_rec_df.track_name)\n",
    "        hotsong_or_your_kind.rec_song = rec_song\n",
    "        for track, artist in zip(song_rec_df.track_name, song_rec_df.artist_name):\n",
    "            if track.lower()== rec_song.lower():\n",
    "                y = artist\n",
    "        print(f'\"{user_input.title()}\"{song_feature_recommendation}\"{rec_song}\" from \"{y}\" (artist).')\n",
    "        from IPython.display import IFrame\n",
    "\n",
    "        track_id = sp.audio_features(song[\"tracks\"][\"items\"][0][\"uri\"])[0]['id']\n",
    "        track_id1 = sp.audio_features(rec_song[\"tracks\"][\"items\"][0][\"uri\"])[0]['id']\n",
    "#sp.audio_features(song[\"tracks\"][\"items\"][0][\"uri\"])[0]['id']\n",
    "        print(\"Song of the users' choice: \")\n",
    "        display(IFrame(src=f\"https://open.spotify.com/embed/track/{track_id}\",\n",
    "           width=\"320\",\n",
    "           height=\"80\",\n",
    "           frameborder=\"0\",\n",
    "           allowtransparency=\"true\",\n",
    "           allow=\"encrypted-media\",))\n",
    "#sp.audio_features(song[\"tracks\"][\"items\"][0][\"uri\"])[0]['id']\n",
    "\n",
    "        display(IFrame(src=f\"https://open.spotify.com/embed/track/{track_id1}\",\n",
    "           width=\"320\",\n",
    "           height=\"80\",\n",
    "           frameborder=\"0\",\n",
    "           allowtransparency=\"true\",\n",
    "           allow=\"encrypted-media\",))"
   ]
  },
  {
   "cell_type": "code",
   "execution_count": 70,
   "metadata": {},
   "outputs": [
    {
     "name": "stdout",
     "output_type": "stream",
     "text": [
      "Please enter the song of your choice: beat it\n",
      "\"Beat It\". Great choice!!!\n",
      "We recommend a similar genre for you. Here you go..Song-\"Tainted Love\" from \"Dexys Midnight Runners\" (artist).\n"
     ]
    },
    {
     "name": "stderr",
     "output_type": "stream",
     "text": [
      "C:\\Users\\Josephine\\anaconda3\\envs\\DA_envt\\lib\\site-packages\\sklearn\\base.py:445: UserWarning: X does not have valid feature names, but KMeans was fitted with feature names\n",
      "  warnings.warn(\n"
     ]
    },
    {
     "ename": "TypeError",
     "evalue": "string indices must be integers",
     "output_type": "error",
     "traceback": [
      "\u001b[1;31m---------------------------------------------------------------------------\u001b[0m",
      "\u001b[1;31mTypeError\u001b[0m                                 Traceback (most recent call last)",
      "\u001b[1;32mC:\\Users\\JOSEPH~1\\AppData\\Local\\Temp/ipykernel_17704/792171483.py\u001b[0m in \u001b[0;36m<module>\u001b[1;34m\u001b[0m\n\u001b[1;32m----> 1\u001b[1;33m \u001b[0mhotsong_or_your_kind\u001b[0m\u001b[1;33m(\u001b[0m\u001b[1;33m)\u001b[0m\u001b[1;33m\u001b[0m\u001b[1;33m\u001b[0m\u001b[0m\n\u001b[0m",
      "\u001b[1;32mC:\\Users\\JOSEPH~1\\AppData\\Local\\Temp/ipykernel_17704/2748921790.py\u001b[0m in \u001b[0;36mhotsong_or_your_kind\u001b[1;34m()\u001b[0m\n\u001b[0;32m     62\u001b[0m \u001b[1;33m\u001b[0m\u001b[0m\n\u001b[0;32m     63\u001b[0m         \u001b[0mtrack_id\u001b[0m \u001b[1;33m=\u001b[0m \u001b[0msp\u001b[0m\u001b[1;33m.\u001b[0m\u001b[0maudio_features\u001b[0m\u001b[1;33m(\u001b[0m\u001b[0msong\u001b[0m\u001b[1;33m[\u001b[0m\u001b[1;34m\"tracks\"\u001b[0m\u001b[1;33m]\u001b[0m\u001b[1;33m[\u001b[0m\u001b[1;34m\"items\"\u001b[0m\u001b[1;33m]\u001b[0m\u001b[1;33m[\u001b[0m\u001b[1;36m0\u001b[0m\u001b[1;33m]\u001b[0m\u001b[1;33m[\u001b[0m\u001b[1;34m\"uri\"\u001b[0m\u001b[1;33m]\u001b[0m\u001b[1;33m)\u001b[0m\u001b[1;33m[\u001b[0m\u001b[1;36m0\u001b[0m\u001b[1;33m]\u001b[0m\u001b[1;33m[\u001b[0m\u001b[1;34m'id'\u001b[0m\u001b[1;33m]\u001b[0m\u001b[1;33m\u001b[0m\u001b[1;33m\u001b[0m\u001b[0m\n\u001b[1;32m---> 64\u001b[1;33m         \u001b[0mtrack_id1\u001b[0m \u001b[1;33m=\u001b[0m \u001b[0msp\u001b[0m\u001b[1;33m.\u001b[0m\u001b[0maudio_features\u001b[0m\u001b[1;33m(\u001b[0m\u001b[0mrec_song\u001b[0m\u001b[1;33m[\u001b[0m\u001b[1;34m\"tracks\"\u001b[0m\u001b[1;33m]\u001b[0m\u001b[1;33m[\u001b[0m\u001b[1;34m\"items\"\u001b[0m\u001b[1;33m]\u001b[0m\u001b[1;33m[\u001b[0m\u001b[1;36m0\u001b[0m\u001b[1;33m]\u001b[0m\u001b[1;33m[\u001b[0m\u001b[1;34m\"uri\"\u001b[0m\u001b[1;33m]\u001b[0m\u001b[1;33m)\u001b[0m\u001b[1;33m[\u001b[0m\u001b[1;36m0\u001b[0m\u001b[1;33m]\u001b[0m\u001b[1;33m[\u001b[0m\u001b[1;34m'id'\u001b[0m\u001b[1;33m]\u001b[0m\u001b[1;33m\u001b[0m\u001b[1;33m\u001b[0m\u001b[0m\n\u001b[0m\u001b[0;32m     65\u001b[0m \u001b[1;31m#sp.audio_features(song[\"tracks\"][\"items\"][0][\"uri\"])[0]['id']\u001b[0m\u001b[1;33m\u001b[0m\u001b[1;33m\u001b[0m\u001b[1;33m\u001b[0m\u001b[0m\n\u001b[0;32m     66\u001b[0m         \u001b[0mprint\u001b[0m\u001b[1;33m(\u001b[0m\u001b[1;34m\"Song of the users' choice: \"\u001b[0m\u001b[1;33m)\u001b[0m\u001b[1;33m\u001b[0m\u001b[1;33m\u001b[0m\u001b[0m\n",
      "\u001b[1;31mTypeError\u001b[0m: string indices must be integers"
     ]
    }
   ],
   "source": [
    "hotsong_or_your_kind()"
   ]
  },
  {
   "cell_type": "code",
   "execution_count": null,
   "metadata": {},
   "outputs": [],
   "source": [
    "song = sp.search(q= hotsong_or_your_kind.song_input.title(), type = \"track\", limit=1, market= 'GB')\n",
    "rec_song = sp.search(q= hotsong_or_your_kind.rec_song.title(), type = \"track\", limit=1, market= 'GB')\n",
    "\n",
    "# to restrict to a song name and artist.\n",
    "# user input song\n",
    "from IPython.display import IFrame\n",
    "\n",
    "track_id = sp.audio_features(song[\"tracks\"][\"items\"][0][\"uri\"])[0]['id']\n",
    "#sp.audio_features(song[\"tracks\"][\"items\"][0][\"uri\"])[0]['id']\n",
    "print(\"Song of the users' choice: \")\n",
    "display(IFrame(src=f\"https://open.spotify.com/embed/track/{track_id}\",\n",
    "       width=\"320\",\n",
    "       height=\"80\",\n",
    "       frameborder=\"0\",\n",
    "       allowtransparency=\"true\",\n",
    "       allow=\"encrypted-media\",\n",
    "      ))\n",
    "\n",
    "track_id2 = sp.audio_features(rec_song[\"tracks\"][\"items\"][0][\"uri\"])[0]['id']\n",
    "#sp.audio_features(song[\"tracks\"][\"items\"][0][\"uri\"])[0]['id']\n",
    "\n",
    "display(IFrame(src=f\"https://open.spotify.com/embed/track/{track_id2}\",\n",
    "       width=\"320\",\n",
    "       height=\"80\",\n",
    "       frameborder=\"0\",\n",
    "       allowtransparency=\"true\",\n",
    "       allow=\"encrypted-media\",\n",
    "      ))"
   ]
  },
  {
   "cell_type": "code",
   "execution_count": null,
   "metadata": {},
   "outputs": [],
   "source": [
    "hotsong_or_your_kind.song_input"
   ]
  },
  {
   "cell_type": "code",
   "execution_count": null,
   "metadata": {},
   "outputs": [],
   "source": [
    "#song = sp.search(q= hotsong_or_your_kind.song_input.title(), type = \"track\", limit=1, market= 'GB')"
   ]
  },
  {
   "cell_type": "code",
   "execution_count": null,
   "metadata": {},
   "outputs": [],
   "source": [
    "sp.audio_features(song[\"tracks\"][\"items\"][0][\"uri\"])[0]"
   ]
  },
  {
   "cell_type": "code",
   "execution_count": null,
   "metadata": {},
   "outputs": [],
   "source": [
    "#sp.audio_features(song[\"tracks\"][\"items\"][0][\"uri\"])[0]['id']"
   ]
  },
  {
   "cell_type": "code",
   "execution_count": null,
   "metadata": {},
   "outputs": [],
   "source": [
    "user_input = input(\"Please enter the song of your choice: \")\n",
    "song_feature_recommendation = \"from artists. Great choice!!!\\nWe recommend a similar genre for you. Here you go..Song-\"\n",
    "if user_input.lower() not in str(df_hot.album).lower(): # Happy path with no matching title,print sorry\n",
    "    song = sp.search(q= user_input.title(), type = \"track\", limit=1, market= 'GB') # to restrict to a song name and artist.\n",
    "    song_features= sp.audio_features(song[\"tracks\"][\"items\"][0][\"uri\"])[0]\n",
    "    scaler = load(\"scaler.pickle\")\n",
    "    song_features_df = pd.DataFrame(song_features, index=[0])\n",
    "    song_features_df_num=song_features_df._get_numeric_data()\n",
    "    song_scaled = scaler.transform(song_features_df_num)\n",
    "    kmeans = load(\"kmeans_4.pickle\")\n",
    "    pred= kmeans.predict(song_scaled)\n",
    "    song_rec_df= X.where(X[\"cluster\"]== pred.item(0)).dropna()\n",
    "    rec_song = np.random.choice(song_rec_df.track_name)\n",
    "    for track, artist in zip(song_rec_df.track_name, song_rec_df.artist_name):\n",
    "        if track.lower()== rec_song.lower():\n",
    "            y = artist\n",
    "print(f'\"{user_input.title()}\"{song_feature_recommendation}\"{rec_song}\" from \"{y}\" (artist).')"
   ]
  },
  {
   "cell_type": "code",
   "execution_count": null,
   "metadata": {},
   "outputs": [],
   "source": [
    "print(song_features_df_num)"
   ]
  },
  {
   "cell_type": "code",
   "execution_count": null,
   "metadata": {},
   "outputs": [],
   "source": [
    "song_rec_df.describe()"
   ]
  },
  {
   "cell_type": "code",
   "execution_count": null,
   "metadata": {},
   "outputs": [],
   "source": [
    "#song = sp.search(q=\"track: beat it artists: Michael Jackson\",limit=1,market= 'GB')\n",
    "#song"
   ]
  },
  {
   "cell_type": "code",
   "execution_count": null,
   "metadata": {},
   "outputs": [],
   "source": []
  },
  {
   "cell_type": "code",
   "execution_count": null,
   "metadata": {},
   "outputs": [],
   "source": [
    "song_features_df = pd.DataFrame(song_features, index=[0])\n",
    "song_features_df.info()"
   ]
  },
  {
   "cell_type": "code",
   "execution_count": null,
   "metadata": {
    "executionInfo": {
     "elapsed": 202,
     "status": "ok",
     "timestamp": 1623850160602,
     "user": {
      "displayName": "Ignacio Soteras",
      "photoUrl": "",
      "userId": "02050793736257155229"
     },
     "user_tz": -120
    },
    "id": "PLfjcUzbu1FF"
   },
   "outputs": [],
   "source": [
    "def load(filename = \"filename.pickle\"): \n",
    "    try: \n",
    "        with open(filename, \"rb\") as f: \n",
    "            return pickle.load(f) \n",
    "    except FileNotFoundError: \n",
    "        print(\"File not found!\") \n"
   ]
  },
  {
   "cell_type": "code",
   "execution_count": null,
   "metadata": {
    "colab": {
     "base_uri": "https://localhost:8080/"
    },
    "executionInfo": {
     "elapsed": 200,
     "status": "ok",
     "timestamp": 1623850190360,
     "user": {
      "displayName": "Ignacio Soteras",
      "photoUrl": "",
      "userId": "02050793736257155229"
     },
     "user_tz": -120
    },
    "id": "VqDGBIPVvBXG",
    "outputId": "cc0b5b59-d4f9-40ee-8c0b-d733de6570f0"
   },
   "outputs": [],
   "source": [
    "scaler = load(\"scaler.pickle\")\n",
    "scaler"
   ]
  },
  {
   "cell_type": "code",
   "execution_count": null,
   "metadata": {},
   "outputs": [],
   "source": [
    "song_features_df_num=song_features_df._get_numeric_data()\n",
    "song_scaled = scaler.transform(song_features_df_num)"
   ]
  },
  {
   "cell_type": "code",
   "execution_count": null,
   "metadata": {},
   "outputs": [],
   "source": [
    "kmeans = load(\"kmeans_4.pickle\")\n",
    "kmeans"
   ]
  },
  {
   "cell_type": "code",
   "execution_count": null,
   "metadata": {},
   "outputs": [],
   "source": [
    "pred= kmeans.predict(song_scaled)\n",
    "pred.item(0)"
   ]
  },
  {
   "cell_type": "code",
   "execution_count": null,
   "metadata": {
    "scrolled": true
   },
   "outputs": [],
   "source": [
    "song_rec_df= X.where(X[\"cluster\"]== pred.item(0)).dropna()\n",
    "song_rec_df"
   ]
  },
  {
   "cell_type": "code",
   "execution_count": null,
   "metadata": {},
   "outputs": [],
   "source": [
    "rec_song = np.random.choice(song_rec_df.track_name)\n",
    "for track, artist in zip(song_rec_df.track_name, song_rec_df.artist_name):\n",
    "        if track.lower()== rec_song.lower():\n",
    "            y = artist\n",
    "            print(f'We recommend a similar genre for you. Here you go..Song-\"{rec_song}\" from \"{y}\" (artist).')"
   ]
  },
  {
   "cell_type": "code",
   "execution_count": null,
   "metadata": {},
   "outputs": [],
   "source": [
    "song = sp.search(q= a, type = \"track\", limit=1, market= 'GB') # to restrict to a song name and artist.\n",
    "\n",
    "song_features= sp.audio_features(song[\"tracks\"][\"items\"][0][\"uri\"])[0]\n",
    "song[\"tracks\"][\"items\"][0][\"uri\"])[0]\n",
    "\n",
    "def load(filename = \"filename.pickle\"): \n",
    "    try: \n",
    "        with open(filename, \"rb\") as f: \n",
    "            return pickle.load(f) \n",
    "    except FileNotFoundError: \n",
    "        print(\"File not found!\") \n",
    "\n",
    "scaler = load(\"scaler.pickle\")\n",
    "song_features_df_num=song_features_df._get_numeric_data()\n",
    "song_scaled = scaler.transform(song_features_df_num)\n",
    "kmeans = load(\"kmeans_4.pickle\")\n",
    "pred= kmeans.predict(song_scaled)\n",
    "song_rec_df= X.where(X[\"cluster\"]== pred.item(0)).dropna()\n",
    "rec_song = np.random.choice(song_rec_df.track_name)\n",
    "for track, artist in zip(song_rec_df.track_name, song_rec_df.artist_name):\n",
    "        if track.lower()== rec_song.lower():\n",
    "            y = artist\n",
    "            print(f'We recommend a similar genre for you. Here you go..Song-\"{rec_song}\" from \"{y}\" (artist).')\n",
    "            \n"
   ]
  },
  {
   "cell_type": "code",
   "execution_count": null,
   "metadata": {},
   "outputs": [],
   "source": []
  }
 ],
 "metadata": {
  "colab": {
   "name": "code_along_KMeans_structure.ipynb",
   "provenance": []
  },
  "kernelspec": {
   "display_name": "Python 3 (ipykernel)",
   "language": "python",
   "name": "python3"
  },
  "language_info": {
   "codemirror_mode": {
    "name": "ipython",
    "version": 3
   },
   "file_extension": ".py",
   "mimetype": "text/x-python",
   "name": "python",
   "nbconvert_exporter": "python",
   "pygments_lexer": "ipython3",
   "version": "3.8.12"
  }
 },
 "nbformat": 4,
 "nbformat_minor": 1
}

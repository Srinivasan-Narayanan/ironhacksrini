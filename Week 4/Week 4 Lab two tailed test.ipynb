{
 "cells": [
  {
   "cell_type": "code",
   "execution_count": 17,
   "id": "878fe2ab",
   "metadata": {},
   "outputs": [],
   "source": [
    "import scipy.stats as stats\n",
    "import numpy as np\n",
    "import matplotlib.pyplot as plt\n",
    "import numpy as np\n",
    "import scipy.stats as stats\n",
    "import math\n",
    "import pandas as pd\n",
    "import statistics\n",
    "\n",
    "%matplotlib inline"
   ]
  },
  {
   "cell_type": "markdown",
   "id": "3ae5738d",
   "metadata": {},
   "source": [
    "#### In a packing plant, a machine packs cartons with jars. It is supposed that a new machine will pack faster on the average than the machine currently used. To test that hypothesis, the times it takes each machine to pack ten cartons are recorded. The results, in seconds, are shown in the tables in the file Data/machine.txt. Assume that there is sufficient evidence to conduct the t test, does the data provide sufficient evidence to show if one machine is better than the other\n"
   ]
  },
  {
   "cell_type": "code",
   "execution_count": 29,
   "id": "092b467d",
   "metadata": {},
   "outputs": [],
   "source": [
    "old = [42.1,41,41.3,41.8,42.4,42.8,43.2,42.3,41.8,42.7]\n",
    "new = [42.7,43.6,43.8,43.3,42.5,43.5,43.1,41.7,44,44.1]\n"
   ]
  },
  {
   "cell_type": "code",
   "execution_count": 30,
   "id": "c06c34a8",
   "metadata": {},
   "outputs": [
    {
     "name": "stdout",
     "output_type": "stream",
     "text": [
      "The sample mean of old Machine is: 42.14\n",
      "The sample mean of new machine is: 43.23\n",
      "The sample standard deviation of old Machine is: 0.68\n",
      "The sample Standard deviation of new machine is: 0.75\n"
     ]
    }
   ],
   "source": [
    "mean_old = np.mean(old)\n",
    "mean_new = np.mean(new)\n",
    "std_old= statistics.stdev(old)\n",
    "std_new= statistics.stdev(new)\n",
    "print(\"The sample mean of old Machine is: {:.2f}\".format(mean_old))\n",
    "print(\"The sample mean of new machine is: {:.2f}\".format(mean_new))\n",
    "print(\"The sample standard deviation of old Machine is: {:.2f}\".format(std_old))\n",
    "print(\"The sample Standard deviation of new machine is: {:.2f}\".format(std_new))"
   ]
  },
  {
   "cell_type": "code",
   "execution_count": 31,
   "id": "b384a000",
   "metadata": {},
   "outputs": [],
   "source": [
    "# Setting up the Hypothesis:\n",
    "H0 = \"The new machine is not significantly different from the old machine\"\n",
    "H1 = \"The new machine is significantly different from the old machine\""
   ]
  },
  {
   "cell_type": "code",
   "execution_count": 32,
   "id": "48b074f2",
   "metadata": {},
   "outputs": [
    {
     "name": "stdout",
     "output_type": "stream",
     "text": [
      "Our t statistic is: -3.40\n"
     ]
    }
   ],
   "source": [
    "t_statistic = (mean_old - mean_new) / np.sqrt( ((std_old**2)/10) + ((std_new**2)/10 ) )\n",
    "print(\"Our t statistic is: {:.2f}\".format(t))"
   ]
  },
  {
   "cell_type": "code",
   "execution_count": 33,
   "id": "8782e430",
   "metadata": {},
   "outputs": [
    {
     "name": "stdout",
     "output_type": "stream",
     "text": [
      "The tc critical value is: 2.31\n"
     ]
    }
   ],
   "source": [
    "tc = stats.t.ppf(1-(0.05/2),df=8) # stats.t.ppf()\n",
    "\n",
    "print(\"The tc critical value is: {:.2f}\".format(tc))"
   ]
  },
  {
   "cell_type": "code",
   "execution_count": 39,
   "id": "65a6ee72",
   "metadata": {},
   "outputs": [
    {
     "data": {
      "text/plain": [
       "'t-statistic result: The new machine is significantly different from the old machine'"
      ]
     },
     "execution_count": 39,
     "metadata": {},
     "output_type": "execute_result"
    }
   ],
   "source": [
    "if t_statistic <= tc or t_statistic >= -tc:\n",
    "    test_result = H1\n",
    "else:\n",
    "    test_result = H0\n",
    "    \n",
    "Result = f\"t-statistic result: {test_result}\"\n",
    "Result"
   ]
  },
  {
   "cell_type": "code",
   "execution_count": null,
   "id": "1e24b6bc",
   "metadata": {},
   "outputs": [],
   "source": []
  }
 ],
 "metadata": {
  "kernelspec": {
   "display_name": "Python 3 (ipykernel)",
   "language": "python",
   "name": "python3"
  },
  "language_info": {
   "codemirror_mode": {
    "name": "ipython",
    "version": 3
   },
   "file_extension": ".py",
   "mimetype": "text/x-python",
   "name": "python",
   "nbconvert_exporter": "python",
   "pygments_lexer": "ipython3",
   "version": "3.8.12"
  }
 },
 "nbformat": 4,
 "nbformat_minor": 5
}

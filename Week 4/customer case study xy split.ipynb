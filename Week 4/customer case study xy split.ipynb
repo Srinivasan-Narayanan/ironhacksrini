{
 "cells": [
  {
   "cell_type": "code",
   "execution_count": 5,
   "id": "005a4ca1",
   "metadata": {},
   "outputs": [],
   "source": [
    "import numpy as np\n",
    "import pandas as pd\n",
    "import matplotlib.pyplot as plt\n",
    "%matplotlib inline\n",
    "import seaborn as sns\n",
    "from sklearn.preprocessing import StandardScaler\n",
    "from sklearn.preprocessing import OneHotEncoder\n",
    "from sklearn.linear_model import LinearRegression\n",
    "from sklearn.model_selection import train_test_split\n",
    "from sklearn.preprocessing import PowerTransformer\n",
    "from sklearn.linear_model import LinearRegression\n",
    "from scipy.stats import boxcox\n",
    "from sklearn.model_selection import train_test_split\n",
    "from sklearn.metrics import r2_score\n",
    "from sklearn.metrics import mean_squared_error as mse\n",
    "from sklearn.metrics import mean_absolute_error as mae\n",
    "pd.options.display.max_rows = 50\n",
    "## Install xlrd package to load Excel files\n",
    "# conda install openpyxl\n",
    "## conda install xlrd"
   ]
  },
  {
   "cell_type": "code",
   "execution_count": 10,
   "id": "18b72751",
   "metadata": {},
   "outputs": [
    {
     "name": "stdout",
     "output_type": "stream",
     "text": [
      " Volume in drive C is OS\n",
      " Volume Serial Number is 303D-C5F3\n",
      "\n",
      " Directory of C:\\Users\\Josephine\\data\\week4\n",
      "\n",
      "08/11/2021  16:36    <DIR>          .\n",
      "08/11/2021  16:36    <DIR>          ..\n",
      "08/11/2021  16:19    <DIR>          .ipynb_checkpoints\n",
      "08/11/2021  12:55            59.727 Code_Along_Distributions.ipynb\n",
      "08/11/2021  16:35    <DIR>          Customer case study xy split\n",
      "08/11/2021  16:36             2.687 customer case study xy split.ipynb\n",
      "08/11/2021  16:27         2.520.827 Notebook_Code_Along_Intro_To_Pandas_Healthcare_For_All_Structure.ipynb\n",
      "08/11/2021  16:19                72 Untitled.ipynb\n",
      "               4 File(s)      2.583.313 bytes\n",
      "               4 Dir(s)  18.598.080.512 bytes free\n"
     ]
    }
   ],
   "source": [
    "ls"
   ]
  },
  {
   "cell_type": "code",
   "execution_count": null,
   "id": "ed06b8a4",
   "metadata": {},
   "outputs": [],
   "source": []
  },
  {
   "cell_type": "code",
   "execution_count": null,
   "id": "3fb90376",
   "metadata": {},
   "outputs": [],
   "source": []
  }
 ],
 "metadata": {
  "kernelspec": {
   "display_name": "Python 3 (ipykernel)",
   "language": "python",
   "name": "python3"
  },
  "language_info": {
   "codemirror_mode": {
    "name": "ipython",
    "version": 3
   },
   "file_extension": ".py",
   "mimetype": "text/x-python",
   "name": "python",
   "nbconvert_exporter": "python",
   "pygments_lexer": "ipython3",
   "version": "3.8.12"
  }
 },
 "nbformat": 4,
 "nbformat_minor": 5
}

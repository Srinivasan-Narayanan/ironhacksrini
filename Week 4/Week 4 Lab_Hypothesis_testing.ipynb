{
 "cells": [
  {
   "cell_type": "markdown",
   "id": "cc00d560",
   "metadata": {},
   "source": [
    "## Lab | Hypothesis Testing"
   ]
  },
  {
   "cell_type": "markdown",
   "id": "0a22aff9",
   "metadata": {},
   "source": [
    "### Instructions\n",
    "It is assumed that the mean systolic blood pressure is μ = 120 mm Hg. In the Honolulu Heart Study, a sample of n = 100 people had an average systolic blood pressure of 130.1 mm Hg with a standard deviation of 21.21 mm Hg. Is the group significantly different (with respect to systolic blood pressure!) from the regular population?\n",
    "\n",
    "Set up the hypothesis test.\n",
    "Write down all the steps followed for setting up the test.\n",
    "Calculate the test statistic by hand and also code it in Python. It should be 4.76190. What decision can you make based on this calculated value?"
   ]
  },
  {
   "cell_type": "code",
   "execution_count": 1,
   "id": "a9dda376",
   "metadata": {},
   "outputs": [],
   "source": [
    "#Importing libraries:\n",
    "import numpy as np\n",
    "import pandas as pd\n",
    "import scipy.stats as stats\n",
    "import matplotlib.pyplot as plt\n",
    "import seaborn as sns\n",
    "\n",
    "%matplotlib inline"
   ]
  },
  {
   "cell_type": "code",
   "execution_count": 2,
   "id": "7a9c9f75",
   "metadata": {},
   "outputs": [],
   "source": [
    "# assigning variables\n",
    "pop_mean = 120\n",
    "sample_mean= 130.1\n",
    "sample_std_dev = 21.21\n",
    "n = 100"
   ]
  },
  {
   "cell_type": "code",
   "execution_count": 25,
   "id": "cdd57c98",
   "metadata": {},
   "outputs": [],
   "source": [
    "# Setting up the Hypothesis:\n",
    "H0 = \"The group is not significantly different from the population\"\n",
    "H1 = \"The group is significantly different from the population\""
   ]
  },
  {
   "cell_type": "code",
   "execution_count": 14,
   "id": "76f5d224",
   "metadata": {},
   "outputs": [
    {
     "name": "stdout",
     "output_type": "stream",
     "text": [
      "4.761904761904759\n"
     ]
    }
   ],
   "source": [
    "# test statistic manually given that the Population Standard deviation is missing\n",
    "t_statistic = (sample_mean-pop_mean)/(sample_std_dev/(n**(1/2)))\n",
    "print(t_statistic)"
   ]
  },
  {
   "cell_type": "code",
   "execution_count": 26,
   "id": "bb491e5b",
   "metadata": {},
   "outputs": [],
   "source": [
    "# fetching the t-critical value \n",
    "confidence_level = 0.95\n",
    "tc = float(1.660) # tc refers to the t-critical value"
   ]
  },
  {
   "cell_type": "code",
   "execution_count": 32,
   "id": "359d5c56",
   "metadata": {},
   "outputs": [],
   "source": [
    "# comparing the t-statistic with t-critical value.\n",
    "# reject the null hypothesis when the t-statistic is higher than t-critical value\n",
    "if t_statistic <= tc:\n",
    "    test_result = H0\n",
    "else:\n",
    "    test_result = H1\n",
    "    \n",
    "Result = f\"t-statistic result: {test_result}\""
   ]
  },
  {
   "cell_type": "code",
   "execution_count": 33,
   "id": "3807c93a",
   "metadata": {},
   "outputs": [
    {
     "name": "stdout",
     "output_type": "stream",
     "text": [
      "t-statistic result: The group is significantly different from the population\n"
     ]
    }
   ],
   "source": [
    "print(Result)"
   ]
  },
  {
   "cell_type": "markdown",
   "id": "eadf71b5",
   "metadata": {},
   "source": [
    "## t-statistic with codes"
   ]
  },
  {
   "cell_type": "code",
   "execution_count": 34,
   "id": "f7a29a76",
   "metadata": {},
   "outputs": [
    {
     "name": "stdout",
     "output_type": "stream",
     "text": [
      "The critical value corresponding to a 0.95 area of a t-student distribution is: 1.66\n"
     ]
    }
   ],
   "source": [
    "tc = stats.t.ppf(0.95,df=79)\n",
    "print(\"The critical value corresponding to a 0.95 area of a t-student distribution is: {:.2f}\".format(tc))"
   ]
  },
  {
   "cell_type": "code",
   "execution_count": 35,
   "id": "d7673acd",
   "metadata": {},
   "outputs": [],
   "source": [
    "if t_statistic <= tc:\n",
    "    test_result = H0\n",
    "else:\n",
    "    test_result = H1\n",
    "    \n",
    "Result = f\"t-statistic result: {test_result}\""
   ]
  },
  {
   "cell_type": "code",
   "execution_count": 36,
   "id": "245175f3",
   "metadata": {},
   "outputs": [
    {
     "name": "stdout",
     "output_type": "stream",
     "text": [
      "t-statistic result: The group is significantly different from the population\n"
     ]
    }
   ],
   "source": [
    "print(Result)"
   ]
  },
  {
   "cell_type": "code",
   "execution_count": null,
   "id": "ae5e1bf6",
   "metadata": {},
   "outputs": [],
   "source": []
  },
  {
   "cell_type": "code",
   "execution_count": null,
   "id": "52b24118",
   "metadata": {},
   "outputs": [],
   "source": []
  }
 ],
 "metadata": {
  "kernelspec": {
   "display_name": "Python 3 (ipykernel)",
   "language": "python",
   "name": "python3"
  },
  "language_info": {
   "codemirror_mode": {
    "name": "ipython",
    "version": 3
   },
   "file_extension": ".py",
   "mimetype": "text/x-python",
   "name": "python",
   "nbconvert_exporter": "python",
   "pygments_lexer": "ipython3",
   "version": "3.8.12"
  }
 },
 "nbformat": 4,
 "nbformat_minor": 5
}
